{
  "cells": [
    {
      "cell_type": "code",
      "execution_count": null,
      "metadata": {
        "id": "E7JK1oHrkUMV"
      },
      "outputs": [],
      "source": [
        "import zipfile\n",
        "import os\n",
        "import numpy as np\n",
        "import pandas as pd\n",
        "import random\n",
        "#import cv2\n",
        "import matplotlib.pyplot as plt\n",
        "%matplotlib inline\n"
      ]
    },
    {
      "cell_type": "code",
      "execution_count": null,
      "metadata": {
        "id": "KUmKd1tvJtgU"
      },
      "outputs": [],
      "source": [
        "!pip install lime"
      ]
    },
    {
      "cell_type": "code",
      "execution_count": null,
      "metadata": {
        "id": "B5H57oe1vfFN"
      },
      "outputs": [],
      "source": [
        "import matplotlib\n",
        "import scipy.stats\n",
        "import sklearn.preprocessing\n",
        "#import lime\n",
        "\n",
        "#%matplotlib notebook"
      ]
    },
    {
      "cell_type": "code",
      "execution_count": null,
      "metadata": {
        "id": "KmNaJliuvhos"
      },
      "outputs": [],
      "source": [
        "from sklearn.ensemble import RandomForestClassifier\n",
        "from sklearn.datasets import make_classification\n",
        "from sklearn.model_selection import train_test_split\n",
        "from sklearn import svm\n",
        "from sklearn.model_selection import cross_val_score\n",
        "from sklearn.model_selection import StratifiedKFold"
      ]
    },
    {
      "cell_type": "code",
      "execution_count": null,
      "metadata": {
        "id": "h0l63WmYz2ye"
      },
      "outputs": [],
      "source": [
        "from sklearn.metrics import matthews_corrcoef\n",
        "from sklearn.metrics import confusion_matrix, ConfusionMatrixDisplay\n",
        "from sklearn.manifold import TSNE\n",
        "from sklearn.discriminant_analysis import LinearDiscriminantAnalysis as LDA"
      ]
    },
    {
      "cell_type": "code",
      "execution_count": null,
      "metadata": {
        "id": "6Lwf1vsOpgvg"
      },
      "outputs": [],
      "source": [
        "from sklearn.metrics import classification_report\n",
        "from sklearn.preprocessing import LabelBinarizer\n",
        "from itertools import cycle\n",
        "from sklearn.inspection import permutation_importance"
      ]
    },
    {
      "cell_type": "code",
      "execution_count": null,
      "metadata": {
        "id": "WJiUb_BHMeHA"
      },
      "outputs": [],
      "source": [
        "from sklearn.discriminant_analysis import LinearDiscriminantAnalysis"
      ]
    },
    {
      "cell_type": "code",
      "execution_count": null,
      "metadata": {
        "id": "qPXgTvJHe57Y"
      },
      "outputs": [],
      "source": [
        "from sklearn.metrics import RocCurveDisplay\n",
        "from sklearn.metrics import roc_curve, auc\n"
      ]
    },
    {
      "cell_type": "code",
      "execution_count": null,
      "metadata": {
        "id": "guD5PFtC5fDJ"
      },
      "outputs": [],
      "source": [
        "import plotly.io as plt_io\n",
        "import plotly.graph_objects as go"
      ]
    },
    {
      "cell_type": "code",
      "execution_count": null,
      "metadata": {
        "id": "F69nZH3k9stA"
      },
      "outputs": [],
      "source": [
        "from sklearn.linear_model import LogisticRegression"
      ]
    },
    {
      "cell_type": "code",
      "execution_count": null,
      "metadata": {
        "id": "LZfFLGYW3hW6"
      },
      "outputs": [],
      "source": [
        "\n",
        "from sklearn.preprocessing import StandardScaler\n"
      ]
    },
    {
      "cell_type": "code",
      "execution_count": null,
      "metadata": {
        "id": "u1iolLCFJpI-"
      },
      "outputs": [],
      "source": [
        "df_exp_pam = pd.read_excel('./miRNA_classification.xlsx', 'miRNA_96')"
      ]
    },
    {
      "cell_type": "code",
      "execution_count": null,
      "metadata": {
        "id": "qYM0cAQYS3Of"
      },
      "outputs": [],
      "source": [
        "df_dmt_pam = df_dmt_pam.set_index('Samples').T"
      ]
    },
    {
      "cell_type": "code",
      "execution_count": null,
      "metadata": {
        "id": "-ZkBSK8eaKX5"
      },
      "outputs": [],
      "source": [
        "df_exp_pam.head()"
      ]
    },
    {
      "cell_type": "code",
      "execution_count": null,
      "metadata": {
        "id": "cf-V5fnrIp8z"
      },
      "outputs": [],
      "source": [
        "df_exp_pam2 = pd.read_excel('./Gene_exprn_1958.xlsx', 'Norm_1958')"
      ]
    },
    {
      "cell_type": "code",
      "execution_count": null,
      "metadata": {
        "id": "6b5nI9bDAk42"
      },
      "outputs": [],
      "source": [
        "df_exp_pam2.head()"
      ]
    },
    {
      "cell_type": "code",
      "execution_count": null,
      "metadata": {
        "id": "XVQyUPBAhM0k"
      },
      "outputs": [],
      "source": [
        "df_dmt_pam = pd.read_excel('./PAM50_classification_genes.xlsx', 'Genes_50')"
      ]
    },
    {
      "cell_type": "code",
      "execution_count": null,
      "metadata": {
        "id": "aBMe_kf_jmL1"
      },
      "outputs": [],
      "source": [
        "df_dmt_pam.head()"
      ]
    },
    {
      "cell_type": "code",
      "execution_count": null,
      "metadata": {
        "id": "yz70I3ATSlsN"
      },
      "outputs": [],
      "source": [
        "df_dmt_pam.shape"
      ]
    },
    {
      "cell_type": "code",
      "source": [
        "df_dmt_pam1 = df_dmt_pam.dropna()"
      ],
      "metadata": {
        "id": "l9SLAeVhDOdM"
      },
      "execution_count": null,
      "outputs": []
    },
    {
      "cell_type": "code",
      "execution_count": null,
      "metadata": {
        "id": "2SWkk5MFKovC"
      },
      "outputs": [],
      "source": [
        "frames = [df_dmt_pam1, df_dmt_pam2]"
      ]
    },
    {
      "cell_type": "code",
      "execution_count": null,
      "metadata": {
        "id": "QEC1Gy0CKVFi"
      },
      "outputs": [],
      "source": [
        "df_dmt_pam = pd.concat(frames)"
      ]
    },
    {
      "cell_type": "code",
      "execution_count": null,
      "metadata": {
        "id": "HuoZi_qFKwAO"
      },
      "outputs": [],
      "source": [
        " df_exp_pam.shape, df_dmt_pam.shape"
      ]
    },
    {
      "cell_type": "code",
      "execution_count": null,
      "metadata": {
        "id": "qtONbkF9S8nQ"
      },
      "outputs": [],
      "source": [
        "df_exp_pam = df_exp_pam.rename(columns={'Samples':'Sample'})"
      ]
    },
    {
      "cell_type": "code",
      "execution_count": null,
      "metadata": {
        "id": "zVU71vjV-xPC"
      },
      "outputs": [],
      "source": [
        "df_exp_pam.drop(df_exp_pam[df_exp_pam['HER2'].isna()].index,inplace=True)"
      ]
    },
    {
      "cell_type": "code",
      "execution_count": null,
      "metadata": {
        "id": "12mTfg1h_mva"
      },
      "outputs": [],
      "source": [
        "df_dmt_pam.drop(df_dmt_pam[df_dmt_pam['HER2'].isna()].index,inplace=True)"
      ]
    },
    {
      "cell_type": "code",
      "execution_count": null,
      "metadata": {
        "id": "hByYkXpGNxQr"
      },
      "outputs": [],
      "source": [
        "df = df_dmt_pam.merge(df_exp_pam, on ='Sample')"
      ]
    },
    {
      "cell_type": "code",
      "execution_count": null,
      "metadata": {
        "id": "KUXQzZXrLuTF"
      },
      "outputs": [],
      "source": [
        "df_dmt =df_dmt_pam.sort_values('Sample')"
      ]
    },
    {
      "cell_type": "code",
      "execution_count": null,
      "metadata": {
        "id": "tNN0Uyy-MYEh"
      },
      "outputs": [],
      "source": [
        "df_exp =df_exp_pam.sort_values('Samples')"
      ]
    },
    {
      "cell_type": "code",
      "execution_count": null,
      "metadata": {
        "id": "Vq8VNEpJKekX"
      },
      "outputs": [],
      "source": [
        "df_dmt_pr1 = pd.read_excel('./Receptors_status_WORK.xlsx','PR_case1')"
      ]
    },
    {
      "cell_type": "code",
      "execution_count": null,
      "metadata": {
        "id": "AtdogazTKe9u"
      },
      "outputs": [],
      "source": [
        "df_dmt_her1 = pd.read_excel('./Receptors_status_WORK.xlsx','HER2_case1')"
      ]
    },
    {
      "cell_type": "code",
      "execution_count": null,
      "metadata": {
        "id": "JNvFUB-1VeH9"
      },
      "outputs": [],
      "source": [
        "#df_dmt_geo = pd.read_excel('./Receptors_status_WORK.xlsx','35_Geo_Val_4')\n",
        "df_dmt_geo1 = pd.read_excel('./Receptors_status_WORK.xlsx','35_GSE131448')\n",
        "df_dmt_geo2 = pd.read_excel('./Receptors_status_WORK.xlsx','35_GSE72245')\n",
        "df_dmt_geo3 = pd.read_excel('./Receptors_status_WORK.xlsx','35_GSE72251')\n",
        "df_dmt_geo4 = pd.read_excel('./Receptors_status_WORK.xlsx','35_GSE84207_OSLO')"
      ]
    },
    {
      "cell_type": "code",
      "execution_count": null,
      "metadata": {
        "id": "n-FLjw2yKxDJ"
      },
      "outputs": [],
      "source": [
        "df_label = df_dmt_pam['Subtype-4']"
      ]
    },
    {
      "cell_type": "code",
      "execution_count": null,
      "metadata": {
        "id": "seL0DEXxKu22"
      },
      "outputs": [],
      "source": [
        "df_dmt_pam[df_dmt_pam['Event']==2.0].index"
      ]
    },
    {
      "cell_type": "code",
      "execution_count": null,
      "metadata": {
        "id": "06L3_BlOJFIq"
      },
      "outputs": [],
      "source": [
        "#df_label = df_dmt_pam['PR']"
      ]
    },
    {
      "cell_type": "code",
      "execution_count": null,
      "metadata": {
        "id": "xWNKuE13hZ8Q"
      },
      "outputs": [],
      "source": [
        "df_label_test = df_dmt_pam_test['Subtype']"
      ]
    },
    {
      "cell_type": "code",
      "execution_count": null,
      "metadata": {
        "id": "m2y7ed0TsH9y"
      },
      "outputs": [],
      "source": [
        "#df_label_geo = df_dmt_geo['Subtype']\n",
        "df_label_geo1 = df_dmt_geo1['Subtype']\n",
        "df_label_geo2 = df_dmt_geo2['Subtype']\n",
        "df_label_geo3 = df_dmt_geo3['Subtype']\n",
        "df_label_geo4 = df_dmt_geo4['Subtype']"
      ]
    },
    {
      "cell_type": "code",
      "execution_count": null,
      "metadata": {
        "id": "27k4QrXogorz"
      },
      "outputs": [],
      "source": [
        "df_exp_pam['3_type'].value_counts()"
      ]
    },
    {
      "cell_type": "code",
      "execution_count": null,
      "metadata": {
        "id": "Vm9AKmLBJNNO"
      },
      "outputs": [],
      "source": [
        "df_dmt_pam['Subtype-4'].value_counts()"
      ]
    },
    {
      "cell_type": "code",
      "execution_count": null,
      "metadata": {
        "id": "ipyOOrajQVGU"
      },
      "outputs": [],
      "source": [
        "def func(row):\n",
        "    if row.ER == 'Positve':\n",
        "        row.ER = 'Positive'\n",
        "        #row.col_b = -1\n",
        "    return row"
      ]
    },
    {
      "cell_type": "code",
      "execution_count": null,
      "metadata": {
        "id": "OY7PfrRaQXNl"
      },
      "outputs": [],
      "source": [
        "df_dmt_pam2 = df_dmt_pam1.apply(func, axis=1)"
      ]
    },
    {
      "cell_type": "code",
      "execution_count": null,
      "metadata": {
        "id": "chk6ruffQnlo"
      },
      "outputs": [],
      "source": [
        "df_exp_mod.drop(df_exp_mod[df_exp_pam['Subtype'] == 'Normal'].index,inplace=True)"
      ]
    },
    {
      "cell_type": "code",
      "execution_count": null,
      "metadata": {
        "id": "zg-v1lzcJe_m"
      },
      "outputs": [],
      "source": [
        "df_dmt_pam.drop('Binary', axis=1, inplace=True)"
      ]
    },
    {
      "cell_type": "code",
      "execution_count": null,
      "metadata": {
        "id": "B8nAy8nAgDoy"
      },
      "outputs": [],
      "source": [
        "df_dmt_pam.shape"
      ]
    },
    {
      "cell_type": "code",
      "execution_count": null,
      "metadata": {
        "id": "6D2_3Wgri1Ng"
      },
      "outputs": [],
      "source": [
        "df_exp_pam.drop('ER', axis=1, inplace=True)"
      ]
    },
    {
      "cell_type": "code",
      "execution_count": null,
      "metadata": {
        "id": "lNMSVT1uugf9"
      },
      "outputs": [],
      "source": [
        "#df_dmt_geo.drop('Sample', axis=1, inplace=True)MKI67\n",
        "df_dmt_geo1.drop('Subtype', axis=1, inplace=True)\n",
        "df_dmt_geo2.drop('Subtype', axis=1, inplace=True)\n",
        "df_dmt_geo3.drop('Subtype', axis=1, inplace=True)\n",
        "df_dmt_geo4.drop('Subtype', axis=1, inplace=True)"
      ]
    },
    {
      "cell_type": "code",
      "execution_count": null,
      "metadata": {
        "id": "pGgA2O3gkXuE"
      },
      "outputs": [],
      "source": [
        "frames = [df_dmt_pam, df_dmt_geo1, df_dmt_geo2, df_dmt_geo3,df_dmt_geo4]"
      ]
    },
    {
      "cell_type": "code",
      "execution_count": null,
      "metadata": {
        "id": "MWlEDt8Lklfr"
      },
      "outputs": [],
      "source": [
        "df_train = pd.concat(frames)"
      ]
    },
    {
      "cell_type": "code",
      "execution_count": null,
      "metadata": {
        "id": "CMko3v6LkuMH"
      },
      "outputs": [],
      "source": [
        "frames_label = [df_label,df_label_geo1, df_label_geo2, df_label_geo3,df_label_geo4]"
      ]
    },
    {
      "cell_type": "code",
      "execution_count": null,
      "metadata": {
        "id": "Ec3Kc-pUk2-z"
      },
      "outputs": [],
      "source": [
        "df_label = pd.concat(frames_label)"
      ]
    },
    {
      "cell_type": "code",
      "execution_count": null,
      "metadata": {
        "id": "76bNmTNTbER4"
      },
      "outputs": [],
      "source": [
        "frames_geo = [df_dmt_geo1, df_dmt_geo2, df_dmt_geo3,df_dmt_geo4]"
      ]
    },
    {
      "cell_type": "code",
      "execution_count": null,
      "metadata": {
        "id": "CzqJUliEbRnk"
      },
      "outputs": [],
      "source": [
        "df_geo = pd.concat(frames_geo)"
      ]
    },
    {
      "cell_type": "code",
      "execution_count": null,
      "metadata": {
        "id": "wqw0W1sIbXGc"
      },
      "outputs": [],
      "source": [
        "frames_geo_label = [df_label_geo1, df_label_geo2, df_label_geo3,df_label_geo4]"
      ]
    },
    {
      "cell_type": "code",
      "execution_count": null,
      "metadata": {
        "id": "EtdbP3htbiyO"
      },
      "outputs": [],
      "source": [
        "df_geo_label = pd.concat(frames_geo_label)"
      ]
    },
    {
      "cell_type": "code",
      "execution_count": null,
      "metadata": {
        "id": "K2N_XrXyJwh7"
      },
      "outputs": [],
      "source": [
        "X_train, X_test, y_train, y_test = train_test_split(df_train, df_label, test_size=0.20, random_state=0)\n"
      ]
    },
    {
      "cell_type": "code",
      "execution_count": null,
      "metadata": {
        "id": "MME8jDz8Op3c"
      },
      "outputs": [],
      "source": [
        "X_test.to_excel('/content/drive/My Drive/X_test35.xlsx')"
      ]
    },
    {
      "cell_type": "code",
      "execution_count": null,
      "metadata": {
        "id": "GNBMG4l2KdbZ"
      },
      "outputs": [],
      "source": [
        "X_train.shape, y_train.shape, X_test.shape, y_test.shape"
      ]
    },
    {
      "cell_type": "code",
      "execution_count": null,
      "metadata": {
        "id": "_r-IDRzncAy6"
      },
      "outputs": [],
      "source": [
        "df_geo.shape, df_geo_label.shape"
      ]
    },
    {
      "cell_type": "code",
      "execution_count": null,
      "metadata": {
        "id": "E7Ip1mp_oaIX"
      },
      "outputs": [],
      "source": [
        "df_train.shape"
      ]
    },
    {
      "cell_type": "code",
      "execution_count": null,
      "metadata": {
        "id": "gThHPLS5OX3p"
      },
      "outputs": [],
      "source": [
        "## Standardizing the data\n",
        "xt = StandardScaler().fit_transform(X_test)\n"
      ]
    },
    {
      "cell_type": "code",
      "execution_count": null,
      "metadata": {
        "id": "Vj58uHpZL6mo"
      },
      "outputs": [],
      "source": [
        "clf = LinearDiscriminantAnalysis()\n",
        "clf.fit(X_train, y_train)\n"
      ]
    },
    {
      "cell_type": "code",
      "execution_count": null,
      "metadata": {
        "id": "fhivSPACY8RG"
      },
      "outputs": [],
      "source": [
        "clf.score(X_test,y_test)"
      ]
    },
    {
      "cell_type": "code",
      "execution_count": null,
      "metadata": {
        "id": "gsL20ZsB6mph"
      },
      "outputs": [],
      "source": [
        "my_dict = {'TNBC': 0 , 'HER2': 1 , 'LUM': 2}\n",
        "y = [my_dict[zi] for zi in df_label]"
      ]
    },
    {
      "cell_type": "code",
      "execution_count": null,
      "metadata": {
        "id": "ge9GXdk63tpx"
      },
      "outputs": [],
      "source": [
        "X_LDA = LDA(n_components=2).fit_transform(df_train,y)"
      ]
    },
    {
      "cell_type": "code",
      "execution_count": null,
      "metadata": {
        "id": "Qdd44CzvrAB6"
      },
      "outputs": [],
      "source": [
        "color_scale=[\"red\", \"green\", \"blue\"]"
      ]
    },
    {
      "cell_type": "code",
      "execution_count": null,
      "metadata": {
        "id": "p-hIuHGW4KaA"
      },
      "outputs": [],
      "source": [
        "def plot_3d(component1,component2,component3):\n",
        "\n",
        "  fig = go.Figure(data=[go.Scatter3d(\n",
        "          x=component1,\n",
        "          y=component2,\n",
        "          z=component3,\n",
        "          mode='markers',\n",
        "          marker=dict(\n",
        "              size=10,\n",
        "              color=y,                # set color to an array/list of desired values\n",
        "              colorscale='Rainbow',   # choose a colorscale\n",
        "              opacity=1,\n",
        "              line_width=1\n",
        "          )\n",
        "      )])\n",
        "  fig.update_layout(margin=dict(l=50,r=50,b=50,t=50),width=1800,height=1000)\n",
        "  fig.layout.template = 'simple_white'\n",
        "  fig.show()\n",
        "\n",
        "\n",
        "      # tight layout\n"
      ]
    },
    {
      "cell_type": "code",
      "execution_count": null,
      "metadata": {
        "id": "mrJIn7pKiwqq"
      },
      "outputs": [],
      "source": []
    },
    {
      "cell_type": "code",
      "execution_count": null,
      "metadata": {
        "id": "tNutJYGM4GbA"
      },
      "outputs": [],
      "source": [
        "def plot_2d(component1, component2):\n",
        "\n",
        "    fig = go.Figure(data=go.Scatter(\n",
        "        x = component1,\n",
        "        y = component2,\n",
        "        mode='markers',\n",
        "        marker=dict(\n",
        "            size=15,\n",
        "            color=y, #set color equal to a variable\n",
        "            colorscale=[[0, 'rgb(0,0,255)'], [0.5, 'rgb(0,255,0)'], [1, 'rgb(255,0,0)']],\n",
        "            #colorscale = [[0, 'blue'], [0.5, 'green'], [1.0, 'rgb(255, 0, 0)']],\n",
        "\n",
        "            showscale=False,\n",
        "            line_width=1\n",
        "        )\n",
        "    ))\n",
        "    #fig.update_layout(margin=dict( l=50,r=50,b=50,t=50),width=1000,height=700, legend=dict(title_font_family=\"Times New Roman\",\n",
        "    #                          font=dict(size= 30)))\n",
        "    fig.update_layout(margin=dict( l=20,r=20,b=20,t=20),\n",
        "    font_family=\"Courier New\",\n",
        "    font_color=\"black\",\n",
        "    title_font_family=\"Times New Roman\",\n",
        "    title_font_color=\"red\",\n",
        "    legend_title_font_color=\"green\",\n",
        "    width=1000,height=700,\n",
        "    font=dict(size= 22),\n",
        "    xaxis = {'title':'LD 1'}, yaxis = {'title':'LD 2'}\n",
        "\n",
        "\n",
        "    )\n",
        "\n",
        "    fig.update_xaxes(tickfont_family=\"Arial Black\", title_font=dict(size=24), titlefont_family = \"Arial Black\")\n",
        "    fig.update_yaxes(tickfont_family=\"Arial Black\", title_font=dict(size=24), titlefont_family = \"Arial Black\")\n",
        "\n",
        "\n",
        "    fig.layout.template = 'simple_white'\n",
        "\n",
        "    fig.show()\n",
        "\n",
        "plot_2d(X_LDA[:, 0],X_LDA[:, 1])"
      ]
    },
    {
      "cell_type": "code",
      "execution_count": null,
      "metadata": {
        "id": "4FIUg5vu7Hp4"
      },
      "outputs": [],
      "source": [
        "plot_3d(X_LDA[:, 0],X_LDA[:, 1],X_LDA[:, 2])"
      ]
    },
    {
      "cell_type": "code",
      "execution_count": null,
      "metadata": {
        "id": "iGlq-eDnYoiW"
      },
      "outputs": [],
      "source": [
        "target_names = ['HER2','LUMA', 'LUMB', 'TNBC']\n",
        "#target_names = ['Negative', 'Positive']"
      ]
    },
    {
      "cell_type": "code",
      "execution_count": null,
      "metadata": {
        "id": "A4qkKyNmzL7y"
      },
      "outputs": [],
      "source": [
        "skf = StratifiedKFold(n_splits=5, shuffle=True, random_state=43)\n",
        "lst_accu_stratified = []"
      ]
    },
    {
      "cell_type": "code",
      "execution_count": null,
      "metadata": {
        "id": "XJ2b75r36yPu"
      },
      "outputs": [],
      "source": [
        "clf = svm.SVC(kernel='linear', C=3, random_state=42, probability=True)\n",
        "#clf = svm.SVC(kernel='rbf', C=3, random_state=42, probability = True)\n",
        "#clf = RandomForestClassifier(max_depth=4, random_state=0)\n",
        "#clf = LinearDiscriminantAnalysis()\n",
        "#clf = LogisticRegression(solver='lbfgs', max_iter=1500)"
      ]
    },
    {
      "cell_type": "code",
      "execution_count": null,
      "metadata": {
        "id": "XiJqIy3p618G"
      },
      "outputs": [],
      "source": [
        "for i, (train_index, test_index) in enumerate(skf.split(df_dmt_pam, df_label)):\n",
        "\n",
        "  x_train_fold, x_test_fold = df_dmt_pam.iloc[train_index], df_dmt_pam.iloc[test_index]\n",
        "  y_train_fold, y_test_fold = df_label.iloc[train_index], df_label.iloc[test_index]\n",
        "  clf.fit(x_train_fold, y_train_fold)\n",
        "  lst_accu_stratified.append(clf.score(x_test_fold, y_test_fold))\n",
        "  predictions = clf.predict(x_test_fold)\n",
        "  print(classification_report(y_test_fold, predictions, target_names=target_names))\n",
        "  #print(confusion_matrix(y_test_fold, predictions))\n",
        "  matrix = confusion_matrix(y_test_fold, predictions, labels=clf.classes_)\n",
        "  #print(clf.classes_)\n",
        "  disp = ConfusionMatrixDisplay(confusion_matrix=matrix, display_labels=target_names)\n",
        "\n",
        "  #print(predictions,y_test_fold)\n",
        "  #df = pd.DataFrame(predictions)\n",
        "  #df1 = pd.DataFrame(y_test_fold)\n",
        "  #df.to_excel('./Predictions_{}.xlsx'.format(i))\n",
        "  #df1.to_excel('./Labels_{}.xlsx'.format(i))\n",
        "\n",
        "  disp.plot(cmap = 'RdPu', colorbar =False)\n",
        "  plt.rcParams['font.size'] = '22'\n",
        "  plt.xticks(fontsize=18)\n",
        "  plt.yticks(fontsize=18)\n",
        "  plt.xlabel('True label', fontsize = 18)\n",
        "  plt.ylabel('Predicted label', fontsize = 18)\n",
        "\n",
        "  plt.show()\n",
        "\n",
        "  print(matthews_corrcoef(y_test_fold, predictions))\n",
        "  label_binarizer = LabelBinarizer().fit(df_label)\n",
        "  y_onehot_test = label_binarizer.transform(y_test_fold)\n",
        "  n_samples, n_classes = y_onehot_test.shape\n",
        "  y_score = clf.fit(x_train_fold, y_train_fold).predict_proba(x_test_fold)\n",
        "  fig, ax = plt.subplots(figsize=(8, 8))\n",
        "  \"\"\"\n",
        "  #for binary\n",
        "  RocCurveDisplay.from_predictions(\n",
        "          y_onehot_test,\n",
        "          y_score[:, 1],\n",
        "          name='SVM-RBF',\n",
        "          color='red',\n",
        "          ax=ax\n",
        "\n",
        "      )\n",
        "\n",
        "  \"\"\"\n",
        "  colors = cycle([\"blue\", \"green\", \"red\", \"acqua\"])\n",
        "  for class_id, color in zip(range(n_classes), colors):\n",
        "      RocCurveDisplay.from_predictions(\n",
        "          y_onehot_test[:, class_id],\n",
        "          y_score[:, class_id],\n",
        "          name=f\"{target_names[class_id]}\",\n",
        "          color=color,\n",
        "          ax=ax\n",
        "\n",
        "      )\n",
        "\n",
        "  plt.show()\n",
        "\n",
        "  # store the fpr, tpr, and roc_auc for all averaging strategies\n",
        "  fpr, tpr, roc_auc = dict(), dict(), dict()\n",
        "  # Compute micro-average ROC curve and ROC area\n",
        "  fpr[\"micro\"], tpr[\"micro\"], _ = roc_curve(y_onehot_test.ravel(), y_score.ravel())\n",
        "  roc_auc[\"micro\"] = auc(fpr[\"micro\"], tpr[\"micro\"])\n",
        "\n",
        "  #print(f\"Micro-averaged One-vs-Rest ROC AUC score:\\n{roc_auc['micro']:.2f}\")\n",
        "\n",
        "\n",
        "\n",
        "  \"\"\"\n",
        "  plt.plot([0, 1], [0, 1], \"k--\", label=\"Chance curve (AUC = 0.5)\")\n",
        "  ax.tick_params(axis='x', labelsize=15)\n",
        "  ax.tick_params(axis='y', labelsize=15)\n",
        "  plt.axis(\"square\")\n",
        "  plt.xlabel(\"False Positive Rate\", fontsize = 15)\n",
        "  plt.ylabel(\"True Positive Rate\", fontsize = 15)\n",
        "  #plt.title(\"Receiver Operating Characteristic\\n (One-vs-Rest multiclass)\")\n",
        "  plt.legend(fontsize = \"10\",loc='lower right')\n",
        "  #plt.show()\n",
        "\n",
        "  perm_importance = permutation_importance(clf, x_test_fold, y_test_fold)\n",
        "  col = df_dmt_pam.columns\n",
        "  feature_names_corr = np.array(col)\n",
        "  sorted_idx_corr = perm_importance.importances_mean.argsort()\n",
        "  for i in range(0,len(sorted_idx_corr)):\n",
        "    features_corr_sorted = feature_names_corr[sorted_idx_corr]\n",
        "  for i in range(0,len(sorted_idx_corr)):\n",
        "    imp_corr_sorted = perm_importance.importances_mean[sorted_idx_corr]\n",
        "  cpg_corr_sorted = pd.DataFrame({'id': features_corr_sorted, 'imp': imp_corr_sorted}, columns=['id', 'imp'])\n",
        "  #cpg_imp = cpg_corr_sorted.loc[cpg_corr_sorted['imp']>0.0]\n",
        "  #cpg_imp_sites = cpg_imp.id\n",
        "  #print(len(cpg_imp_sites))\n",
        "  #print(cpg_imp_sites)\n",
        "  print(cpg_corr_sorted.tail(18))\n",
        "\n",
        "  #print(train_index, test_index)\n",
        "  \"\"\"\n"
      ]
    },
    {
      "cell_type": "code",
      "execution_count": null,
      "metadata": {
        "id": "iyxFqJeIEROD"
      },
      "outputs": [],
      "source": [
        "from statistics import mean, stdev"
      ]
    },
    {
      "cell_type": "code",
      "execution_count": null,
      "metadata": {
        "id": "xq6j-KTAA12h"
      },
      "outputs": [],
      "source": [
        "print('List of possible accuracy:', lst_accu_stratified)\n",
        "print('\\nMaximum Accuracy That can be obtained from this model is:',\n",
        "      max(lst_accu_stratified)*100, '%')\n",
        "print('\\nMinimum Accuracy:',\n",
        "      min(lst_accu_stratified)*100, '%')\n",
        "print('\\nOverall Accuracy:',\n",
        "      mean(lst_accu_stratified)*100, '%')\n",
        "print('\\nStandard Deviation is:', stdev(lst_accu_stratified))"
      ]
    },
    {
      "cell_type": "code",
      "execution_count": null,
      "metadata": {
        "id": "Bxl80Hs0jiaH"
      },
      "outputs": [],
      "source": [
        "skf = StratifiedKFold(n_splits=5, shuffle=True, random_state=43)\n",
        "lst_accu_stratified = []"
      ]
    },
    {
      "cell_type": "code",
      "execution_count": null,
      "metadata": {
        "id": "e3Ysv-9LjnCH"
      },
      "outputs": [],
      "source": [
        "#clf = svm.SVC(kernel='linear', C=3, random_state=42, probability=True)\n",
        "clf = svm.SVC(kernel='rbf', C=3, random_state=42, probability = True)\n",
        "#clf = RandomForestClassifier(max_depth=4, random_state=0)\n",
        "#clf = LinearDiscriminantAnalysis()\n",
        "#clf = LogisticRegression(solver='lbfgs', max_iter=1500)"
      ]
    },
    {
      "cell_type": "code",
      "execution_count": null,
      "metadata": {
        "id": "9DZUzhSQjsMD"
      },
      "outputs": [],
      "source": [
        "for i, (train_index, test_index) in enumerate(skf.split(df_dmt_pam, df_label)):\n",
        "\n",
        "  x_train_fold, x_test_fold = df_dmt_pam.iloc[train_index], df_dmt_pam.iloc[test_index]\n",
        "  y_train_fold, y_test_fold = df_label.iloc[train_index], df_label.iloc[test_index]\n",
        "  clf.fit(x_train_fold, y_train_fold)\n",
        "  lst_accu_stratified.append(clf.score(x_test_fold, y_test_fold))\n",
        "  predictions = clf.predict(x_test_fold)\n",
        "  print(classification_report(y_test_fold, predictions, target_names=target_names))\n",
        "  #print(confusion_matrix(y_test_fold, predictions))\n",
        "  matrix = confusion_matrix(y_test_fold, predictions, labels=clf.classes_)\n",
        "  #print(clf.classes_)\n",
        "  disp = ConfusionMatrixDisplay(confusion_matrix=matrix, display_labels=target_names)\n",
        "\n",
        "  #print(predictions,y_test_fold)\n",
        "  df = pd.DataFrame(predictions)\n",
        "  df1 = pd.DataFrame(y_test_fold)\n",
        "  #df.to_excel('./Predictions_{}.xlsx'.format(i))\n",
        "  #df1.to_excel('./Labels_{}.xlsx'.format(i))\n",
        "\n",
        "  disp.plot(cmap = 'RdPu', colorbar =False)\n",
        "  plt.rcParams['font.size'] = '22'\n",
        "  plt.xticks(fontsize=18)\n",
        "  plt.yticks(fontsize=18)\n",
        "  plt.xlabel('True label', fontsize = 18)\n",
        "  plt.ylabel('Predicted label', fontsize = 18)\n",
        "\n",
        "  plt.show()\n",
        "\n",
        "\n",
        "\n",
        "  print(matthews_corrcoef(y_test_fold, predictions))\n",
        "\n",
        "  label_binarizer = LabelBinarizer().fit(df_label)\n",
        "  y_onehot_test = label_binarizer.transform(y_test_fold)\n",
        "  n_samples, n_classes = y_onehot_test.shape\n",
        "  y_score = clf.fit(x_train_fold, y_train_fold).predict_proba(x_test_fold)\n",
        "  fig, ax = plt.subplots(figsize=(8, 8))\n",
        "  \"\"\"\n",
        "  #for binary\n",
        "  RocCurveDisplay.from_predictions(\n",
        "          y_onehot_test,\n",
        "          y_score[:, 1],\n",
        "          name='SVM-RBF',\n",
        "          color='red',\n",
        "          ax=ax\n",
        "\n",
        "      )\n",
        "  \"\"\"\n",
        "\n",
        "  colors = cycle([\"blue\", \"green\", \"red\", \"acqua\"])\n",
        "  for class_id, color in zip(range(n_classes), colors):\n",
        "      RocCurveDisplay.from_predictions(\n",
        "          y_onehot_test[:, class_id],\n",
        "          y_score[:, class_id],\n",
        "          name=f\"{target_names[class_id]}\",\n",
        "          color=color,\n",
        "          ax=ax\n",
        "\n",
        "      )\n",
        "\n",
        "  plt.show()\n",
        "\n",
        "  # store the fpr, tpr, and roc_auc for all averaging strategies\n",
        "  fpr, tpr, roc_auc = dict(), dict(), dict()\n",
        "  # Compute micro-average ROC curve and ROC area\n",
        "  fpr[\"micro\"], tpr[\"micro\"], _ = roc_curve(y_onehot_test.ravel(), y_score.ravel())\n",
        "  roc_auc[\"micro\"] = auc(fpr[\"micro\"], tpr[\"micro\"])\n",
        "\n",
        "  #print(f\"Micro-averaged One-vs-Rest ROC AUC score:\\n{roc_auc['micro']:.2f}\")\n",
        "\n",
        "\n",
        "  \"\"\"\n",
        "\n",
        "  plt.plot([0, 1], [0, 1], \"k--\", label=\"Chance curve (AUC = 0.5)\")\n",
        "  ax.tick_params(axis='x', labelsize=15)\n",
        "  ax.tick_params(axis='y', labelsize=15)\n",
        "  plt.axis(\"square\")\n",
        "  plt.xlabel(\"False Positive Rate\", fontsize = 15)\n",
        "  plt.ylabel(\"True Positive Rate\", fontsize = 15)\n",
        "  #plt.title(\"Receiver Operating Characteristic\\n (One-vs-Rest multiclass)\")\n",
        "  plt.legend(fontsize = \"10\",loc='lower right')\n",
        "  #plt.show()\n",
        "\n",
        "\n",
        "  perm_importance = permutation_importance(clf, x_test_fold, y_test_fold)\n",
        "  col = df_dmt_pam.columns\n",
        "  feature_names_corr = np.array(col)\n",
        "  sorted_idx_corr = perm_importance.importances_mean.argsort()\n",
        "  for i in range(0,len(sorted_idx_corr)):\n",
        "    features_corr_sorted = feature_names_corr[sorted_idx_corr]\n",
        "  for i in range(0,len(sorted_idx_corr)):\n",
        "    imp_corr_sorted = perm_importance.importances_mean[sorted_idx_corr]\n",
        "  cpg_corr_sorted = pd.DataFrame({'id': features_corr_sorted, 'imp': imp_corr_sorted}, columns=['id', 'imp'])\n",
        "  #cpg_imp = cpg_corr_sorted.loc[cpg_corr_sorted['imp']>0.0]\n",
        "  #cpg_imp_sites = cpg_imp.id\n",
        "  #print(len(cpg_imp_sites))\n",
        "  #print(cpg_imp_sites)\n",
        "  print(cpg_corr_sorted.tail(18))\n",
        "\n",
        "  #print(train_index, test_index)\n",
        "  \"\"\"\n"
      ]
    },
    {
      "cell_type": "code",
      "execution_count": null,
      "metadata": {
        "id": "yhFzhkEwjx1D"
      },
      "outputs": [],
      "source": [
        "print('List of possible accuracy:', lst_accu_stratified)\n",
        "print('\\nMaximum Accuracy That can be obtained from this model is:',\n",
        "      max(lst_accu_stratified)*100, '%')\n",
        "print('\\nMinimum Accuracy:',\n",
        "      min(lst_accu_stratified)*100, '%')\n",
        "print('\\nOverall Accuracy:',\n",
        "      mean(lst_accu_stratified)*100, '%')\n",
        "print('\\nStandard Deviation is:', stdev(lst_accu_stratified))"
      ]
    },
    {
      "cell_type": "code",
      "source": [
        "from sklearn.ensemble import GradientBoostingClassifier"
      ],
      "metadata": {
        "id": "ZJieBtX0Psga"
      },
      "execution_count": null,
      "outputs": []
    },
    {
      "cell_type": "code",
      "source": [
        "clf = GradientBoostingClassifier(n_estimators=500, learning_rate=0.07,  max_depth=6, random_state=42)"
      ],
      "metadata": {
        "id": "r4wlOeb2Pvqr"
      },
      "execution_count": null,
      "outputs": []
    },
    {
      "cell_type": "code",
      "source": [
        "\"\"\"\n",
        "  #for binary\n",
        "  RocCurveDisplay.from_predictions(\n",
        "          y_onehot_test,\n",
        "          y_score[:, 1],\n",
        "          name='SVM-RBF',\n",
        "          color='red',\n",
        "          ax=ax\n",
        "\n",
        "      )\n",
        "\n",
        "\n",
        "\"\"\""
      ],
      "metadata": {
        "id": "iW2zEeLr5h0b"
      },
      "execution_count": null,
      "outputs": []
    },
    {
      "cell_type": "code",
      "execution_count": null,
      "metadata": {
        "id": "Rc1U-84VjziC"
      },
      "outputs": [],
      "source": [
        "skf = StratifiedKFold(n_splits=5, shuffle=True, random_state=43)\n",
        "lst_accu_stratified = []"
      ]
    },
    {
      "cell_type": "code",
      "execution_count": null,
      "metadata": {
        "id": "qOPvu6HKj4dF"
      },
      "outputs": [],
      "source": [
        "#clf = svm.SVC(kernel='linear', C=3, random_state=42, probability=True)\n",
        "#clf = svm.SVC(kernel='rbf', C=3, random_state=42, probability = True)\n",
        "clf = RandomForestClassifier(max_depth=4, random_state=0)\n",
        "#clf = LinearDiscriminantAnalysis()\n",
        "#clf = LogisticRegression(solver='lbfgs', max_iter=1500)"
      ]
    },
    {
      "cell_type": "code",
      "execution_count": null,
      "metadata": {
        "id": "1U1KvVmkj_gH"
      },
      "outputs": [],
      "source": [
        "for i, (train_index, test_index) in enumerate(skf.split(df_dmt_pam, df_label)):\n",
        "\n",
        "  x_train_fold, x_test_fold = df_dmt_pam.iloc[train_index], df_dmt_pam.iloc[test_index]\n",
        "  y_train_fold, y_test_fold = df_label.iloc[train_index], df_label.iloc[test_index]\n",
        "  clf.fit(x_train_fold, y_train_fold)\n",
        "  lst_accu_stratified.append(clf.score(x_test_fold, y_test_fold))\n",
        "  predictions = clf.predict(x_test_fold)\n",
        "  print(classification_report(y_test_fold, predictions, target_names=target_names))\n",
        "  #print(confusion_matrix(y_test_fold, predictions))\n",
        "  matrix = confusion_matrix(y_test_fold, predictions, labels=clf.classes_)\n",
        "  #print(clf.classes_)\n",
        "  disp = ConfusionMatrixDisplay(confusion_matrix=matrix, display_labels=target_names)\n",
        "\n",
        "  #print(predictions,y_test_fold)\n",
        "  #df = pd.DataFrame(predictions)\n",
        "  #df1 = pd.DataFrame(y_test_fold)\n",
        "  #df.to_excel('./Predictions_{}.xlsx'.format(i))\n",
        "  #df1.to_excel('./Labels_{}.xlsx'.format(i))\n",
        "\n",
        "  disp.plot(cmap = 'RdPu', colorbar =False)\n",
        "  plt.rcParams['font.size'] = '22'\n",
        "  plt.xticks(fontsize=18)\n",
        "  plt.yticks(fontsize=18)\n",
        "  plt.xlabel('True label', fontsize = 18)\n",
        "  plt.ylabel('Predicted label', fontsize = 18)\n",
        "\n",
        "  plt.show()\n",
        "\n",
        "  print(matthews_corrcoef(y_test_fold, predictions))\n",
        "  label_binarizer = LabelBinarizer().fit(df_label)\n",
        "  y_onehot_test = label_binarizer.transform(y_test_fold)\n",
        "  n_samples, n_classes = y_onehot_test.shape\n",
        "  y_score = clf.fit(x_train_fold, y_train_fold).predict_proba(x_test_fold)\n",
        "  fig, ax = plt.subplots(figsize=(8, 8))\n",
        "  \"\"\"\n",
        "  #for binary\n",
        "  RocCurveDisplay.from_predictions(\n",
        "          y_onehot_test,\n",
        "          y_score[:, 1],\n",
        "          name='SVM-RBF',\n",
        "          color='red',\n",
        "          ax=ax\n",
        "\n",
        "      )\n",
        "\n",
        "  \"\"\"\n",
        "  colors = cycle([\"blue\", \"green\", \"red\", \"acqua\"])\n",
        "  for class_id, color in zip(range(n_classes), colors):\n",
        "      RocCurveDisplay.from_predictions(\n",
        "          y_onehot_test[:, class_id],\n",
        "          y_score[:, class_id],\n",
        "          name=f\"{target_names[class_id]}\",\n",
        "          color=color,\n",
        "          ax=ax\n",
        "\n",
        "      )\n",
        "\n",
        "  plt.show()\n",
        "\n",
        "  # store the fpr, tpr, and roc_auc for all averaging strategies\n",
        "  fpr, tpr, roc_auc = dict(), dict(), dict()\n",
        "  # Compute micro-average ROC curve and ROC area\n",
        "  fpr[\"micro\"], tpr[\"micro\"], _ = roc_curve(y_onehot_test.ravel(), y_score.ravel())\n",
        "  roc_auc[\"micro\"] = auc(fpr[\"micro\"], tpr[\"micro\"])\n",
        "\n",
        "  #print(f\"Micro-averaged One-vs-Rest ROC AUC score:\\n{roc_auc['micro']:.2f}\")\n",
        "\n",
        "\n",
        "\n",
        "  \"\"\"\n",
        "  plt.plot([0, 1], [0, 1], \"k--\", label=\"Chance curve (AUC = 0.5)\")\n",
        "  ax.tick_params(axis='x', labelsize=15)\n",
        "  ax.tick_params(axis='y', labelsize=15)\n",
        "  plt.axis(\"square\")\n",
        "  plt.xlabel(\"False Positive Rate\", fontsize = 15)\n",
        "  plt.ylabel(\"True Positive Rate\", fontsize = 15)\n",
        "  #plt.title(\"Receiver Operating Characteristic\\n (One-vs-Rest multiclass)\")\n",
        "  plt.legend(fontsize = \"10\",loc='lower right')\n",
        "  #plt.show()\n",
        "\n",
        "  perm_importance = permutation_importance(clf, x_test_fold, y_test_fold)\n",
        "  col = df_dmt_pam.columns\n",
        "  feature_names_corr = np.array(col)\n",
        "  sorted_idx_corr = perm_importance.importances_mean.argsort()\n",
        "  for i in range(0,len(sorted_idx_corr)):\n",
        "    features_corr_sorted = feature_names_corr[sorted_idx_corr]\n",
        "  for i in range(0,len(sorted_idx_corr)):\n",
        "    imp_corr_sorted = perm_importance.importances_mean[sorted_idx_corr]\n",
        "  cpg_corr_sorted = pd.DataFrame({'id': features_corr_sorted, 'imp': imp_corr_sorted}, columns=['id', 'imp'])\n",
        "  #cpg_imp = cpg_corr_sorted.loc[cpg_corr_sorted['imp']>0.0]\n",
        "  #cpg_imp_sites = cpg_imp.id\n",
        "  #print(len(cpg_imp_sites))\n",
        "  #print(cpg_imp_sites)\n",
        "  print(cpg_corr_sorted.tail(18))\n",
        "\n",
        "  #print(train_index, test_index)\n",
        "  \"\"\"\n"
      ]
    },
    {
      "cell_type": "code",
      "execution_count": null,
      "metadata": {
        "id": "do02hbLSkKr7"
      },
      "outputs": [],
      "source": [
        "print('List of possible accuracy:', lst_accu_stratified)\n",
        "print('\\nMaximum Accuracy That can be obtained from this model is:',\n",
        "      max(lst_accu_stratified)*100, '%')\n",
        "print('\\nMinimum Accuracy:',\n",
        "      min(lst_accu_stratified)*100, '%')\n",
        "print('\\nOverall Accuracy:',\n",
        "      mean(lst_accu_stratified)*100, '%')\n",
        "print('\\nStandard Deviation is:', stdev(lst_accu_stratified))"
      ]
    },
    {
      "cell_type": "code",
      "execution_count": null,
      "metadata": {
        "id": "8O5NVsekn7N9"
      },
      "outputs": [],
      "source": [
        "skf = StratifiedKFold(n_splits=5, shuffle=True, random_state=43)\n",
        "lst_accu_stratified = []"
      ]
    },
    {
      "cell_type": "code",
      "execution_count": null,
      "metadata": {
        "id": "ayH44xEjoPBB"
      },
      "outputs": [],
      "source": [
        "#clf = svm.SVC(kernel='linear', C=3, random_state=42, probability=True)\n",
        "#clf = svm.SVC(kernel='rbf', C=3, random_state=42, probability = True)\n",
        "#clf = RandomForestClassifier(max_depth=4, random_state=0)\n",
        "clf = LinearDiscriminantAnalysis()\n",
        "#clf = LogisticRegression(solver='lbfgs', max_iter=1500)"
      ]
    },
    {
      "cell_type": "code",
      "execution_count": null,
      "metadata": {
        "id": "zdGxrs99oZ-W"
      },
      "outputs": [],
      "source": [
        "for i, (train_index, test_index) in enumerate(skf.split(df_dmt_pam, df_label)):\n",
        "\n",
        "  x_train_fold, x_test_fold = df_dmt_pam.iloc[train_index], df_dmt_pam.iloc[test_index]\n",
        "  y_train_fold, y_test_fold = df_label.iloc[train_index], df_label.iloc[test_index]\n",
        "  clf.fit(x_train_fold, y_train_fold)\n",
        "  lst_accu_stratified.append(clf.score(x_test_fold, y_test_fold))\n",
        "  predictions = clf.predict(x_test_fold)\n",
        "  print(classification_report(y_test_fold, predictions, target_names=target_names))\n",
        "  #print(confusion_matrix(y_test_fold, predictions))\n",
        "  matrix = confusion_matrix(y_test_fold, predictions, labels=clf.classes_)\n",
        "  #print(clf.classes_)\n",
        "  disp = ConfusionMatrixDisplay(confusion_matrix=matrix, display_labels=target_names)\n",
        "\n",
        "  #print(predictions,y_test_fold)\n",
        "  #df = pd.DataFrame(predictions)\n",
        "  #df1 = pd.DataFrame(y_test_fold)\n",
        "  #df.to_excel('./Predictions_{}.xlsx'.format(i))\n",
        "  #df1.to_excel('./Labels_{}.xlsx'.format(i))\n",
        "\n",
        "  disp.plot(cmap = 'RdPu', colorbar =False)\n",
        "  plt.rcParams['font.size'] = '22'\n",
        "  plt.xticks(fontsize=18)\n",
        "  plt.yticks(fontsize=18)\n",
        "  plt.xlabel('True label', fontsize = 18)\n",
        "  plt.ylabel('Predicted label', fontsize = 18)\n",
        "\n",
        "  plt.show()\n",
        "\n",
        "  print(matthews_corrcoef(y_test_fold, predictions))\n",
        "  label_binarizer = LabelBinarizer().fit(df_label)\n",
        "  y_onehot_test = label_binarizer.transform(y_test_fold)\n",
        "  n_samples, n_classes = y_onehot_test.shape\n",
        "  y_score = clf.fit(x_train_fold, y_train_fold).predict_proba(x_test_fold)\n",
        "  fig, ax = plt.subplots(figsize=(8, 8))\n",
        "  \"\"\"\n",
        "  #for binary\n",
        "  RocCurveDisplay.from_predictions(\n",
        "          y_onehot_test,\n",
        "          y_score[:, 1],\n",
        "          name='SVM-RBF',\n",
        "          color='red',\n",
        "          ax=ax\n",
        "\n",
        "      )\n",
        "\n",
        "  \"\"\"\n",
        "  colors = cycle([\"blue\", \"green\", \"red\", \"acqua\"])\n",
        "  for class_id, color in zip(range(n_classes), colors):\n",
        "      RocCurveDisplay.from_predictions(\n",
        "          y_onehot_test[:, class_id],\n",
        "          y_score[:, class_id],\n",
        "          name=f\"{target_names[class_id]}\",\n",
        "          color=color,\n",
        "          ax=ax\n",
        "\n",
        "      )\n",
        "\n",
        "  plt.show()\n",
        "\n",
        "  # store the fpr, tpr, and roc_auc for all averaging strategies\n",
        "  fpr, tpr, roc_auc = dict(), dict(), dict()\n",
        "  # Compute micro-average ROC curve and ROC area\n",
        "  fpr[\"micro\"], tpr[\"micro\"], _ = roc_curve(y_onehot_test.ravel(), y_score.ravel())\n",
        "  roc_auc[\"micro\"] = auc(fpr[\"micro\"], tpr[\"micro\"])\n",
        "\n",
        "  #print(f\"Micro-averaged One-vs-Rest ROC AUC score:\\n{roc_auc['micro']:.2f}\")\n",
        "\n",
        "\n",
        "\n",
        "  \"\"\"\n",
        "  plt.plot([0, 1], [0, 1], \"k--\", label=\"Chance curve (AUC = 0.5)\")\n",
        "  ax.tick_params(axis='x', labelsize=15)\n",
        "  ax.tick_params(axis='y', labelsize=15)\n",
        "  plt.axis(\"square\")\n",
        "  plt.xlabel(\"False Positive Rate\", fontsize = 15)\n",
        "  plt.ylabel(\"True Positive Rate\", fontsize = 15)\n",
        "  #plt.title(\"Receiver Operating Characteristic\\n (One-vs-Rest multiclass)\")\n",
        "  plt.legend(fontsize = \"10\",loc='lower right')\n",
        "  #plt.show()\n",
        "\n",
        "  perm_importance = permutation_importance(clf, x_test_fold, y_test_fold)\n",
        "  col = df_dmt_pam.columns\n",
        "  feature_names_corr = np.array(col)\n",
        "  sorted_idx_corr = perm_importance.importances_mean.argsort()\n",
        "  for i in range(0,len(sorted_idx_corr)):\n",
        "    features_corr_sorted = feature_names_corr[sorted_idx_corr]\n",
        "  for i in range(0,len(sorted_idx_corr)):\n",
        "    imp_corr_sorted = perm_importance.importances_mean[sorted_idx_corr]\n",
        "  cpg_corr_sorted = pd.DataFrame({'id': features_corr_sorted, 'imp': imp_corr_sorted}, columns=['id', 'imp'])\n",
        "  #cpg_imp = cpg_corr_sorted.loc[cpg_corr_sorted['imp']>0.0]\n",
        "  #cpg_imp_sites = cpg_imp.id\n",
        "  #print(len(cpg_imp_sites))\n",
        "  #print(cpg_imp_sites)\n",
        "  print(cpg_corr_sorted.tail(18))\n",
        "\n",
        "  #print(train_index, test_index)\n",
        "  \"\"\"\n"
      ]
    },
    {
      "cell_type": "code",
      "execution_count": null,
      "metadata": {
        "id": "-rx_J-Uiof1l"
      },
      "outputs": [],
      "source": [
        "print('List of possible accuracy:', lst_accu_stratified)\n",
        "print('\\nMaximum Accuracy That can be obtained from this model is:',\n",
        "      max(lst_accu_stratified)*100, '%')\n",
        "print('\\nMinimum Accuracy:',\n",
        "      min(lst_accu_stratified)*100, '%')\n",
        "print('\\nOverall Accuracy:',\n",
        "      mean(lst_accu_stratified)*100, '%')\n",
        "print('\\nStandard Deviation is:', stdev(lst_accu_stratified))"
      ]
    },
    {
      "cell_type": "code",
      "execution_count": null,
      "metadata": {
        "id": "DybI9kxUoqjP"
      },
      "outputs": [],
      "source": [
        "skf = StratifiedKFold(n_splits=5, shuffle=True, random_state=43)\n",
        "lst_accu_stratified = []"
      ]
    },
    {
      "cell_type": "code",
      "execution_count": null,
      "metadata": {
        "id": "oirb0McOomu2"
      },
      "outputs": [],
      "source": [
        "#clf = svm.SVC(kernel='linear', C=3, random_state=42, probability=True)\n",
        "#clf = svm.SVC(kernel='rbf', C=3, random_state=42, probability = True)\n",
        "#clf = RandomForestClassifier(max_depth=4, random_state=0)\n",
        "#clf = LinearDiscriminantAnalysis()\n",
        "clf = LogisticRegression(solver='lbfgs', max_iter=1500)"
      ]
    },
    {
      "cell_type": "code",
      "execution_count": null,
      "metadata": {
        "id": "RNhFgN1qoieN"
      },
      "outputs": [],
      "source": [
        "for i, (train_index, test_index) in enumerate(skf.split(df_dmt_pam, df_label)):\n",
        "\n",
        "  x_train_fold, x_test_fold = df_dmt_pam.iloc[train_index], df_dmt_pam.iloc[test_index]\n",
        "  y_train_fold, y_test_fold = df_label.iloc[train_index], df_label.iloc[test_index]\n",
        "  clf.fit(x_train_fold, y_train_fold)\n",
        "  lst_accu_stratified.append(clf.score(x_test_fold, y_test_fold))\n",
        "  predictions = clf.predict(x_test_fold)\n",
        "  print(classification_report(y_test_fold, predictions, target_names=target_names))\n",
        "  #print(confusion_matrix(y_test_fold, predictions))\n",
        "  matrix = confusion_matrix(y_test_fold, predictions, labels=clf.classes_)\n",
        "  #print(clf.classes_)\n",
        "  disp = ConfusionMatrixDisplay(confusion_matrix=matrix, display_labels=target_names)\n",
        "\n",
        "  #print(predictions,y_test_fold)\n",
        "  #df = pd.DataFrame(predictions)\n",
        "  #df1 = pd.DataFrame(y_test_fold)\n",
        "  #df.to_excel('./Predictions_{}.xlsx'.format(i))\n",
        "  #df1.to_excel('./Labels_{}.xlsx'.format(i))\n",
        "\n",
        "  disp.plot(cmap = 'RdPu', colorbar =False)\n",
        "  plt.rcParams['font.size'] = '22'\n",
        "  plt.xticks(fontsize=18)\n",
        "  plt.yticks(fontsize=18)\n",
        "  plt.xlabel('True label', fontsize = 18)\n",
        "  plt.ylabel('Predicted label', fontsize = 18)\n",
        "\n",
        "  plt.show()\n",
        "\n",
        "  print(matthews_corrcoef(y_test_fold, predictions))\n",
        "  label_binarizer = LabelBinarizer().fit(df_label)\n",
        "  y_onehot_test = label_binarizer.transform(y_test_fold)\n",
        "  n_samples, n_classes = y_onehot_test.shape\n",
        "  y_score = clf.fit(x_train_fold, y_train_fold).predict_proba(x_test_fold)\n",
        "  fig, ax = plt.subplots(figsize=(8, 8))\n",
        "  \"\"\"\n",
        "  #for binary\n",
        "  RocCurveDisplay.from_predictions(\n",
        "          y_onehot_test,\n",
        "          y_score[:, 1],\n",
        "          name='SVM-RBF',\n",
        "          color='red',\n",
        "          ax=ax\n",
        "\n",
        "      )\n",
        "\n",
        "  \"\"\"\n",
        "  colors = cycle([\"blue\", \"green\", \"red\", \"acqua\"])\n",
        "  for class_id, color in zip(range(n_classes), colors):\n",
        "      RocCurveDisplay.from_predictions(\n",
        "          y_onehot_test[:, class_id],\n",
        "          y_score[:, class_id],\n",
        "          name=f\"{target_names[class_id]}\",\n",
        "          color=color,\n",
        "          ax=ax\n",
        "\n",
        "      )\n",
        "\n",
        "  plt.show()\n",
        "\n",
        "  # store the fpr, tpr, and roc_auc for all averaging strategies\n",
        "  fpr, tpr, roc_auc = dict(), dict(), dict()\n",
        "  # Compute micro-average ROC curve and ROC area\n",
        "  fpr[\"micro\"], tpr[\"micro\"], _ = roc_curve(y_onehot_test.ravel(), y_score.ravel())\n",
        "  roc_auc[\"micro\"] = auc(fpr[\"micro\"], tpr[\"micro\"])\n",
        "\n",
        "  #print(f\"Micro-averaged One-vs-Rest ROC AUC score:\\n{roc_auc['micro']:.2f}\")\n",
        "\n",
        "\n",
        "\n",
        "  \"\"\"\n",
        "  plt.plot([0, 1], [0, 1], \"k--\", label=\"Chance curve (AUC = 0.5)\")\n",
        "  ax.tick_params(axis='x', labelsize=15)\n",
        "  ax.tick_params(axis='y', labelsize=15)\n",
        "  plt.axis(\"square\")\n",
        "  plt.xlabel(\"False Positive Rate\", fontsize = 15)\n",
        "  plt.ylabel(\"True Positive Rate\", fontsize = 15)\n",
        "  #plt.title(\"Receiver Operating Characteristic\\n (One-vs-Rest multiclass)\")\n",
        "  plt.legend(fontsize = \"10\",loc='lower right')\n",
        "  #plt.show()\n",
        "\n",
        "  perm_importance = permutation_importance(clf, x_test_fold, y_test_fold)\n",
        "  col = df_dmt_pam.columns\n",
        "  feature_names_corr = np.array(col)\n",
        "  sorted_idx_corr = perm_importance.importances_mean.argsort()\n",
        "  for i in range(0,len(sorted_idx_corr)):\n",
        "    features_corr_sorted = feature_names_corr[sorted_idx_corr]\n",
        "  for i in range(0,len(sorted_idx_corr)):\n",
        "    imp_corr_sorted = perm_importance.importances_mean[sorted_idx_corr]\n",
        "  cpg_corr_sorted = pd.DataFrame({'id': features_corr_sorted, 'imp': imp_corr_sorted}, columns=['id', 'imp'])\n",
        "  #cpg_imp = cpg_corr_sorted.loc[cpg_corr_sorted['imp']>0.0]\n",
        "  #cpg_imp_sites = cpg_imp.id\n",
        "  #print(len(cpg_imp_sites))\n",
        "  #print(cpg_imp_sites)\n",
        "  print(cpg_corr_sorted.tail(18))\n",
        "\n",
        "  #print(train_index, test_index)\n",
        "  \"\"\"\n"
      ]
    },
    {
      "cell_type": "code",
      "execution_count": null,
      "metadata": {
        "id": "WvXKgdmpohnM"
      },
      "outputs": [],
      "source": [
        "print('List of possible accuracy:', lst_accu_stratified)\n",
        "print('\\nMaximum Accuracy That can be obtained from this model is:',\n",
        "      max(lst_accu_stratified)*100, '%')\n",
        "print('\\nMinimum Accuracy:',\n",
        "      min(lst_accu_stratified)*100, '%')\n",
        "print('\\nOverall Accuracy:',\n",
        "      mean(lst_accu_stratified)*100, '%')\n",
        "print('\\nStandard Deviation is:', stdev(lst_accu_stratified))"
      ]
    },
    {
      "cell_type": "code",
      "execution_count": null,
      "metadata": {
        "id": "6cVT7wkyKoED"
      },
      "outputs": [],
      "source": [
        "clf = svm.SVC(kernel='linear', C=3, probability=True).fit(X_train, y_train)"
      ]
    },
    {
      "cell_type": "code",
      "execution_count": null,
      "metadata": {
        "id": "gMdu9Lr5RtLJ"
      },
      "outputs": [],
      "source": [
        "clf.score(X_test, y_test)"
      ]
    },
    {
      "cell_type": "code",
      "execution_count": null,
      "metadata": {
        "id": "susIpBtTiPzq"
      },
      "outputs": [],
      "source": []
    },
    {
      "cell_type": "code",
      "execution_count": null,
      "metadata": {
        "id": "AZCSoUzYBiu_"
      },
      "outputs": [],
      "source": [
        "predictions = clf.predict(X_test)"
      ]
    },
    {
      "cell_type": "code",
      "execution_count": null,
      "metadata": {
        "id": "OChZK4lmt5TE"
      },
      "outputs": [],
      "source": [
        "predictions"
      ]
    },
    {
      "cell_type": "code",
      "execution_count": null,
      "metadata": {
        "id": "k7vAYbYAuASB"
      },
      "outputs": [],
      "source": [
        "y_test"
      ]
    },
    {
      "cell_type": "code",
      "execution_count": null,
      "metadata": {
        "id": "oAVdz7lLvFim"
      },
      "outputs": [],
      "source": [
        "X_test"
      ]
    },
    {
      "cell_type": "code",
      "execution_count": null,
      "metadata": {
        "id": "oM0I0-kJynzO"
      },
      "outputs": [],
      "source": [
        "df = pd.DataFrame(predictions)\n",
        "df.to_excel('./Predictions_LR_35sites.xlsx')"
      ]
    },
    {
      "cell_type": "code",
      "execution_count": null,
      "metadata": {
        "id": "33zWWmNiB1I6"
      },
      "outputs": [],
      "source": [
        "matthews_corrcoef(y_test, predictions)"
      ]
    },
    {
      "cell_type": "code",
      "execution_count": null,
      "metadata": {
        "id": "lJM7cpMCqvZw"
      },
      "outputs": [],
      "source": [
        "print(classification_report(y_test, predictions, target_names=target_names))\n",
        "print(confusion_matrix(y_test, predictions))"
      ]
    },
    {
      "cell_type": "code",
      "execution_count": null,
      "metadata": {
        "id": "Gx2umH0gZPiI"
      },
      "outputs": [],
      "source": [
        "matrix = confusion_matrix(y_test, predictions, labels=clf.classes_)\n",
        "disp = ConfusionMatrixDisplay(confusion_matrix=matrix, display_labels=clf.classes_)\n",
        "disp.plot(cmap = 'RdPu', colorbar =False)\n",
        "plt.rcParams['font.size'] = '22'\n",
        "plt.xticks(fontsize=18)\n",
        "plt.yticks(fontsize=18)\n",
        "plt.xlabel('True label', fontsize = 18)\n",
        "plt.ylabel('Predicted label', fontsize = 18)\n",
        "\n",
        "plt.show()"
      ]
    },
    {
      "cell_type": "code",
      "execution_count": null,
      "metadata": {
        "id": "pOTUwdRUh4QR"
      },
      "outputs": [],
      "source": [
        "label_binarizer = LabelBinarizer().fit(y_train)\n",
        "y_onehot_test = label_binarizer.transform(df_geo_label)\n",
        "y_onehot_test.shape"
      ]
    },
    {
      "cell_type": "code",
      "execution_count": null,
      "metadata": {
        "id": "QUkFceaC4vrV"
      },
      "outputs": [],
      "source": [
        "n_samples, n_classes = y_onehot_test.shape"
      ]
    },
    {
      "cell_type": "code",
      "execution_count": null,
      "metadata": {
        "id": "mAUS1yHq4mXL"
      },
      "outputs": [],
      "source": [
        "y_score = clf.fit(X_train,y_train).predict_proba(df_geo)\n",
        "\n",
        "# store the fpr, tpr, and roc_auc for all averaging strategies\n",
        "fpr, tpr, roc_auc = dict(), dict(), dict()\n",
        "# Compute micro-average ROC curve and ROC area\n",
        "fpr[\"micro\"], tpr[\"micro\"], _ = roc_curve(y_onehot_test.ravel(), y_score.ravel())\n",
        "roc_auc[\"micro\"] = auc(fpr[\"micro\"], tpr[\"micro\"])\n",
        "\n",
        "print(f\"Micro-averaged One-vs-Rest ROC AUC score:\\n{roc_auc['micro']:.2f}\")\n",
        "\n",
        "fig, ax = plt.subplots(figsize=(6, 6))\n",
        "\n",
        "plt.plot(\n",
        "    fpr[\"micro\"],\n",
        "    tpr[\"micro\"],\n",
        "    label=f\"micro-average ROC curve (AUC = {roc_auc['micro']:.2f})\",\n",
        "    color=\"deeppink\",\n",
        "    linestyle=\":\",\n",
        "    linewidth=4,\n",
        ")\n",
        "\n",
        "\n",
        "colors = cycle([\"aqua\", \"darkorange\", \"cornflowerblue\", \"green\"])\n",
        "for class_id, color in zip(range(n_classes), colors):\n",
        "    RocCurveDisplay.from_predictions(\n",
        "        y_onehot_test[:, class_id],\n",
        "        y_score[:, class_id],\n",
        "        name=f\"ROC curve for {target_names[class_id]}\",\n",
        "        color=color,\n",
        "        ax=ax,\n",
        "    )\n",
        "\n",
        "plt.plot([0, 1], [0, 1], \"k--\", label=\"ROC curve for chance level (AUC = 0.5)\")\n",
        "plt.axis(\"square\")\n",
        "plt.xlabel(\"False Positive Rate\")\n",
        "plt.ylabel(\"True Positive Rate\")\n",
        "plt.title(\"Extension of Receiver Operating Characteristic\\nto One-vs-Rest multiclass\")\n",
        "plt.legend()\n",
        "plt.show()\n"
      ]
    },
    {
      "cell_type": "code",
      "execution_count": null,
      "metadata": {
        "id": "w6iUw4zrhHt5"
      },
      "outputs": [],
      "source": [
        "predictions1 = clf.predict(df_dmt_geo1)\n",
        "predictions2 = clf.predict(df_dmt_geo2)\n",
        "predictions3 = clf.predict(df_dmt_geo3)\n",
        "predictions4 = clf.predict(df_dmt_geo4)\n"
      ]
    },
    {
      "cell_type": "markdown",
      "metadata": {
        "id": "s9h1LzYRmQ35"
      },
      "source": [
        "Code for ROC curve from https://scikit-learn.org/stable/auto_examples/model_selection/plot_roc.html"
      ]
    },
    {
      "cell_type": "code",
      "execution_count": null,
      "metadata": {
        "id": "suyxM54IjrVL"
      },
      "outputs": [],
      "source": [
        "n_samples, n_features = X_test.shape\n",
        "n_classes = len(np.unique(y_test))"
      ]
    },
    {
      "cell_type": "code",
      "execution_count": null,
      "metadata": {
        "id": "bCL4j1I5CFes"
      },
      "outputs": [],
      "source": [
        "clf = svm.SVC(kernel='rbf', C=3, random_state=42, probability = True).fit(X_train, y_train)"
      ]
    },
    {
      "cell_type": "code",
      "execution_count": null,
      "metadata": {
        "id": "3zzJqzumCHSR"
      },
      "outputs": [],
      "source": [
        "clf.score(X_test, y_test)"
      ]
    },
    {
      "cell_type": "code",
      "execution_count": null,
      "metadata": {
        "id": "GYOzqVX-COaG"
      },
      "outputs": [],
      "source": [
        "predictions = clf.predict(X_test)"
      ]
    },
    {
      "cell_type": "code",
      "execution_count": null,
      "metadata": {
        "id": "pibwC4C4UX39"
      },
      "outputs": [],
      "source": [
        "target_names = ['Negative', 'Positive']"
      ]
    },
    {
      "cell_type": "code",
      "execution_count": null,
      "metadata": {
        "id": "QUoP53hFUOkv"
      },
      "outputs": [],
      "source": [
        "#df = pd.DataFrame(predictions)\n",
        "df_label.to_excel('./Label_LR_35sites.xlsx')"
      ]
    },
    {
      "cell_type": "code",
      "execution_count": null,
      "metadata": {
        "id": "UQqyr0j_tf8O"
      },
      "outputs": [],
      "source": [
        "print(classification_report(y_test, predictions, target_names=target_names))\n",
        "print(confusion_matrix(y_test, predictions))"
      ]
    },
    {
      "cell_type": "code",
      "execution_count": null,
      "metadata": {
        "id": "dWTUZdPXta4n"
      },
      "outputs": [],
      "source": [
        "matthews_corrcoef(y_test,predictions)"
      ]
    },
    {
      "cell_type": "code",
      "execution_count": null,
      "metadata": {
        "id": "zVmvM13TNo-W"
      },
      "outputs": [],
      "source": [
        "matrix = confusion_matrix(y_test, predictions, labels=clf.classes_)\n",
        "disp = ConfusionMatrixDisplay(confusion_matrix=matrix, display_labels=clf.classes_)\n",
        "disp.plot(cmap = 'RdPu', colorbar =False)\n",
        "plt.rcParams['font.size'] = '22'\n",
        "plt.xticks(fontsize=18)\n",
        "plt.yticks(fontsize=18)\n",
        "plt.xlabel('True label', fontsize = 18)\n",
        "plt.ylabel('Predicted label', fontsize = 18)\n",
        "\n",
        "plt.show()"
      ]
    },
    {
      "cell_type": "code",
      "execution_count": null,
      "metadata": {
        "id": "etso9p4_wONJ"
      },
      "outputs": [],
      "source": [
        "label_binarizer = LabelBinarizer().fit(y_train)\n",
        "y_onehot_test = label_binarizer.transform(y_test)\n",
        "y_onehot_test.shape  # (n_samples, n_classes)"
      ]
    },
    {
      "cell_type": "code",
      "execution_count": null,
      "metadata": {
        "id": "1zDHSbJBQOAg"
      },
      "outputs": [],
      "source": [
        "X_test.shape"
      ]
    },
    {
      "cell_type": "code",
      "execution_count": null,
      "metadata": {
        "id": "K1v6Baa-5qRp"
      },
      "outputs": [],
      "source": [
        "n_samples, n_classes = y_onehot_test.shape"
      ]
    },
    {
      "cell_type": "code",
      "execution_count": null,
      "metadata": {
        "id": "qfDQdiEVQvuX"
      },
      "outputs": [],
      "source": [
        "leny_score.ravel()"
      ]
    },
    {
      "cell_type": "code",
      "execution_count": null,
      "metadata": {
        "id": "Ikp6uK5hjDtG"
      },
      "outputs": [],
      "source": [
        "y_score = clf.fit(X_train, y_train).predict_proba(X_test)[:,1]\n",
        "\n",
        "# store the fpr, tpr, and roc_auc for all averaging strategies\n",
        "fpr, tpr, roc_auc = dict(), dict(), dict()\n",
        "# Compute micro-average ROC curve and ROC area\n",
        "fpr[\"micro\"], tpr[\"micro\"], _ = roc_curve(y_onehot_test.ravel(), y_score.ravel())\n",
        "roc_auc[\"micro\"] = auc(fpr[\"micro\"], tpr[\"micro\"])\n",
        "\n",
        "print(f\"Micro-averaged One-vs-Rest ROC AUC score:\\n{roc_auc['micro']:.2f}\")\n",
        "fig, ax = plt.subplots(figsize=(6, 6))\n",
        "\n",
        "plt.plot(\n",
        "    fpr[\"micro\"],\n",
        "    tpr[\"micro\"],\n",
        "    label=f\"micro-average ROC curve (AUC = {roc_auc['micro']:.2f})\",\n",
        "    color=\"deeppink\",\n",
        "    linestyle=\":\",\n",
        "    linewidth=4,\n",
        ")\n",
        "\n",
        "\n",
        "colors = cycle([\"aqua\", \"darkorange\", \"cornflowerblue\", \"green\"])\n",
        "for class_id, color in zip(range(n_classes), colors):\n",
        "    RocCurveDisplay.from_predictions(\n",
        "        y_onehot_test[:, class_id],\n",
        "        y_score[:, class_id],\n",
        "        name=f\"ROC curve for {target_names[class_id]}\",\n",
        "        color=color,\n",
        "        ax=ax,\n",
        "    )\n",
        "\n",
        "plt.plot([0, 1], [0, 1], \"k--\", label=\"ROC curve for chance level (AUC = 0.5)\")\n",
        "plt.axis(\"square\")\n",
        "plt.xlabel(\"False Positive Rate\")\n",
        "plt.ylabel(\"True Positive Rate\")\n",
        "plt.title(\"Extension of Receiver Operating Characteristic\\nto One-vs-Rest multiclass\")\n",
        "plt.legend()\n",
        "plt.show()\n"
      ]
    },
    {
      "cell_type": "code",
      "execution_count": null,
      "metadata": {
        "id": "FDTr70VUmfmY"
      },
      "outputs": [],
      "source": [
        "clf = RandomForestClassifier(max_depth=4, random_state=0).fit(X_train, y_train)"
      ]
    },
    {
      "cell_type": "code",
      "execution_count": null,
      "metadata": {
        "id": "igzYURDGmmA4"
      },
      "outputs": [],
      "source": [
        "clf.score(X_test,y_test)"
      ]
    },
    {
      "cell_type": "code",
      "execution_count": null,
      "metadata": {
        "id": "vPoH0HBBmsw5"
      },
      "outputs": [],
      "source": [
        "predictions= clf.predict(X_test)"
      ]
    },
    {
      "cell_type": "code",
      "execution_count": null,
      "metadata": {
        "id": "aF194I9_tvW_"
      },
      "outputs": [],
      "source": [
        "print(classification_report(y_test, predictions, target_names=target_names))\n",
        "print(confusion_matrix(y_test, predictions))"
      ]
    },
    {
      "cell_type": "code",
      "execution_count": null,
      "metadata": {
        "id": "-GdUU3WaDlgi"
      },
      "outputs": [],
      "source": [
        "#matthews_corrcoef(y_test,predictions)\n",
        "matthews_corrcoef(y_test,predictions)"
      ]
    },
    {
      "cell_type": "code",
      "execution_count": null,
      "metadata": {
        "id": "uixJdT_XVJlM"
      },
      "outputs": [],
      "source": [
        "matrix = confusion_matrix(y_test, predictions, labels=clf.classes_)\n",
        "disp = ConfusionMatrixDisplay(confusion_matrix=matrix, display_labels=clf.classes_)\n",
        "disp.plot(cmap = 'RdPu', colorbar =False)\n",
        "plt.rcParams['font.size'] = '22'\n",
        "plt.xticks(fontsize=18)\n",
        "plt.yticks(fontsize=18)\n",
        "plt.xlabel('True label', fontsize = 18)\n",
        "plt.ylabel('Predicted label', fontsize = 18)\n",
        "\n",
        "plt.show()"
      ]
    },
    {
      "cell_type": "code",
      "execution_count": null,
      "metadata": {
        "id": "ahO8NkH-0jXe"
      },
      "outputs": [],
      "source": [
        "label_binarizer = LabelBinarizer().fit(y_train)\n",
        "y_onehot_test = label_binarizer.transform(y_test)\n",
        "y_onehot_test.shape  # (n_samples, n_classes)"
      ]
    },
    {
      "cell_type": "code",
      "execution_count": null,
      "metadata": {
        "id": "1D-5VhPZjq8t"
      },
      "outputs": [],
      "source": [
        "n_samples, n_classes = y_onehot_test.shape"
      ]
    },
    {
      "cell_type": "code",
      "execution_count": null,
      "metadata": {
        "id": "dqb2GLMgjrEx"
      },
      "outputs": [],
      "source": [
        "\n",
        "y_score = clf.fit(X_train, y_train).predict_proba(X_test)\n",
        "\n",
        "# store the fpr, tpr, and roc_auc for all averaging strategies\n",
        "fpr, tpr, roc_auc = dict(), dict(), dict()\n",
        "# Compute micro-average ROC curve and ROC area\n",
        "fpr[\"micro\"], tpr[\"micro\"], _ = roc_curve(y_onehot_test.ravel(), y_score.ravel())\n",
        "roc_auc[\"micro\"] = auc(fpr[\"micro\"], tpr[\"micro\"])\n",
        "\n",
        "print(f\"Micro-averaged One-vs-Rest ROC AUC score:\\n{roc_auc['micro']:.2f}\")\n",
        "\n",
        "fig, ax = plt.subplots(figsize=(6, 6))\n",
        "\n",
        "plt.plot(\n",
        "    fpr[\"micro\"],\n",
        "    tpr[\"micro\"],\n",
        "    label=f\"micro-average ROC curve (AUC = {roc_auc['micro']:.2f})\",\n",
        "    color=\"deeppink\",\n",
        "    linestyle=\":\",\n",
        "    linewidth=4,\n",
        ")\n",
        "\n",
        "\n",
        "colors = cycle([\"aqua\", \"darkorange\", \"cornflowerblue\", \"green\"])\n",
        "for class_id, color in zip(range(n_classes), colors):\n",
        "    RocCurveDisplay.from_predictions(\n",
        "        y_onehot_test[:, class_id],\n",
        "        y_score[:, class_id],\n",
        "        name=f\"ROC curve for {target_names[class_id]}\",\n",
        "        color=color,\n",
        "        ax=ax,\n",
        "    )\n",
        "\n",
        "plt.plot([0, 1], [0, 1], \"k--\", label=\"ROC curve for chance level (AUC = 0.5)\")\n",
        "plt.axis(\"square\")\n",
        "plt.xlabel(\"False Positive Rate\")\n",
        "plt.ylabel(\"True Positive Rate\")\n",
        "plt.title(\"Extension of Receiver Operating Characteristic\\nto One-vs-Rest multiclass\")\n",
        "plt.legend()\n",
        "plt.show()\n"
      ]
    },
    {
      "cell_type": "code",
      "execution_count": null,
      "metadata": {
        "id": "0e_1Ht8CnATh"
      },
      "outputs": [],
      "source": [
        "clf = LogisticRegression(solver='lbfgs', max_iter=400).fit(df_dmt_pam, df_label)"
      ]
    },
    {
      "cell_type": "code",
      "execution_count": null,
      "metadata": {
        "id": "T1C3-oaZfDUe"
      },
      "outputs": [],
      "source": [
        "clf.classes_"
      ]
    },
    {
      "cell_type": "code",
      "execution_count": null,
      "metadata": {
        "id": "kkltFuVVnMJg"
      },
      "outputs": [],
      "source": [
        "clf.score(X_test,y_test)"
      ]
    },
    {
      "cell_type": "code",
      "execution_count": null,
      "metadata": {
        "id": "SyaxeSI-nYBq"
      },
      "outputs": [],
      "source": [
        "predictions = clf.predict(X_test)"
      ]
    },
    {
      "cell_type": "code",
      "execution_count": null,
      "metadata": {
        "id": "sMrqvo_8t2Ik"
      },
      "outputs": [],
      "source": [
        "print(classification_report(y_test, predictions, target_names=target_names))\n",
        "print(confusion_matrix(y_test, predictions))"
      ]
    },
    {
      "cell_type": "code",
      "execution_count": null,
      "metadata": {
        "id": "glwVHAowlGhm"
      },
      "outputs": [],
      "source": [
        "matthews_corrcoef(y_test,predictions)"
      ]
    },
    {
      "cell_type": "code",
      "execution_count": null,
      "metadata": {
        "id": "ZyyuoQkiWAB5"
      },
      "outputs": [],
      "source": [
        "matrix = confusion_matrix(y_test, predictions, labels=clf.classes_)\n",
        "disp = ConfusionMatrixDisplay(confusion_matrix=matrix, display_labels=clf.classes_)\n",
        "disp.plot(cmap = 'RdPu', colorbar =False)\n",
        "plt.rcParams['font.size'] = '22'\n",
        "plt.xticks(fontsize=18)\n",
        "plt.yticks(fontsize=18)\n",
        "plt.xlabel('True label', fontsize = 18)\n",
        "plt.ylabel('Predicted label', fontsize = 18)\n",
        "\n",
        "plt.show()"
      ]
    },
    {
      "cell_type": "code",
      "execution_count": null,
      "metadata": {
        "id": "z1nLXSNs1wyh"
      },
      "outputs": [],
      "source": [
        "label_binarizer = LabelBinarizer().fit(y_train)\n",
        "y_onehot_test = label_binarizer.transform(df_geo_label)\n",
        "y_onehot_test.shape  # (n_samples, n_classes)"
      ]
    },
    {
      "cell_type": "code",
      "execution_count": null,
      "metadata": {
        "id": "MddFrXK2sdMX"
      },
      "outputs": [],
      "source": [
        "n_samples, n_classes = y_onehot_test.shape"
      ]
    },
    {
      "cell_type": "code",
      "execution_count": null,
      "metadata": {
        "id": "8x13ipwIj5VR"
      },
      "outputs": [],
      "source": [
        "y_score = clf.fit(X_train, y_train).predict_proba(df_geo)\n",
        "\n",
        "# store the fpr, tpr, and roc_auc for all averaging strategies\n",
        "fpr, tpr, roc_auc = dict(), dict(), dict()\n",
        "# Compute micro-average ROC curve and ROC area\n",
        "fpr[\"micro\"], tpr[\"micro\"], _ = roc_curve(y_onehot_test.ravel(), y_score.ravel())\n",
        "roc_auc[\"micro\"] = auc(fpr[\"micro\"], tpr[\"micro\"])\n",
        "\n",
        "print(f\"Micro-averaged One-vs-Rest ROC AUC score:\\n{roc_auc['micro']:.2f}\")\n",
        "\n",
        "fig, ax = plt.subplots(figsize=(6, 6))\n",
        "\n",
        "plt.plot(\n",
        "    fpr[\"micro\"],\n",
        "    tpr[\"micro\"],\n",
        "    label=f\"micro-average ROC curve (AUC = {roc_auc['micro']:.2f})\",\n",
        "    color=\"deeppink\",\n",
        "    linestyle=\":\",\n",
        "    linewidth=4,\n",
        ")\n",
        "\n",
        "\n",
        "colors = cycle([\"aqua\", \"darkorange\", \"cornflowerblue\", \"green\"])\n",
        "for class_id, color in zip(range(n_classes), colors):\n",
        "    RocCurveDisplay.from_predictions(\n",
        "        y_onehot_test[:, class_id],\n",
        "        y_score[:, class_id],\n",
        "        name=f\"ROC curve for {target_names[class_id]}\",\n",
        "        color=color,\n",
        "        ax=ax,\n",
        "    )\n",
        "\n",
        "plt.plot([0, 1], [0, 1], \"k--\", label=\"ROC curve for chance level (AUC = 0.5)\")\n",
        "plt.axis(\"square\")\n",
        "plt.xlabel(\"False Positive Rate\")\n",
        "plt.ylabel(\"True Positive Rate\")\n",
        "plt.title(\"Extension of Receiver Operating Characteristic\\nto One-vs-Rest multiclass\")\n",
        "plt.legend()\n",
        "plt.show()\n"
      ]
    },
    {
      "cell_type": "markdown",
      "source": [
        "Identifying important features using SVM scores"
      ],
      "metadata": {
        "id": "vV5lJWD-LBqD"
      }
    },
    {
      "cell_type": "code",
      "execution_count": null,
      "metadata": {
        "id": "wDygZ76tpUN2"
      },
      "outputs": [],
      "source": [
        "perm_importance = permutation_importance(clf, df_train, df_label)\n",
        "col = df_train.columns\n",
        "feature_names_corr = np.array(col)\n",
        "sorted_idx_corr = perm_importance.importances_mean.argsort()\n",
        "for i in range(0,len(sorted_idx_corr)):\n",
        "  features_corr_sorted = feature_names_corr[sorted_idx_corr]\n",
        "for i in range(0,len(sorted_idx_corr)):\n",
        "  imp_corr_sorted = perm_importance.importances_mean[sorted_idx_corr]\n",
        "cpg_corr_sorted = pd.DataFrame({'id': features_corr_sorted, 'imp': imp_corr_sorted}, columns=['id', 'imp'])\n",
        "cpg_imp = cpg_corr_sorted.loc[cpg_corr_sorted['imp']>0.0]\n",
        "cpg_imp_sites = cpg_imp.id\n",
        "print(len(cpg_imp_sites))\n",
        "print(cpg_imp_sites)"
      ]
    },
    {
      "cell_type": "code",
      "execution_count": null,
      "metadata": {
        "id": "Lq73QLU6pa4g"
      },
      "outputs": [],
      "source": [
        "cpg_corr_sorted.tail(18)"
      ]
    },
    {
      "cell_type": "code",
      "execution_count": null,
      "metadata": {
        "id": "UpSPdp6UyeLK"
      },
      "outputs": [],
      "source": [
        "#SVM RBF\n"
      ]
    },
    {
      "cell_type": "code",
      "execution_count": null,
      "metadata": {
        "id": "c-wwEtANQSdO"
      },
      "outputs": [],
      "source": [
        "#LDA\n",
        "cpg_imp_sites"
      ]
    },
    {
      "cell_type": "code",
      "execution_count": null,
      "metadata": {
        "id": "SV_ljFNZQBqO"
      },
      "outputs": [],
      "source": [
        "sitesandlabel = ['cg26514793', 'cg25223095', 'Subtype']"
      ]
    },
    {
      "cell_type": "code",
      "execution_count": null,
      "metadata": {
        "id": "fu2I02aLybzs"
      },
      "outputs": [],
      "source": [
        "df_dmt_best = df_dmt_pam[cpg_imp_sites]"
      ]
    },
    {
      "cell_type": "code",
      "execution_count": null,
      "metadata": {
        "id": "ybHLWtdCOHs-"
      },
      "outputs": [],
      "source": [
        "df_dmt_best.groupby('Subtype').plot(kind = 'scatter',x='cg26514793', y='cg25223095')"
      ]
    },
    {
      "cell_type": "code",
      "execution_count": null,
      "metadata": {
        "id": "lVZ-YxSySTce"
      },
      "outputs": [],
      "source": [
        "import seaborn as sns\n",
        "np.random.seed(1974)\n",
        "\n",
        "sns.scatterplot(x=\"cg26514793\", y=\"cg25223095\", data=df_dmt_best, hue=\"df_label\")"
      ]
    },
    {
      "cell_type": "code",
      "execution_count": null,
      "metadata": {
        "id": "Rp9nFjT_T3J1"
      },
      "outputs": [],
      "source": [
        "#sample for plotting\n",
        "\n",
        "colors = np.where(df_dmt_best[\"Subtype\"]=='Basal','r','-')\n",
        "colors[df_dmt_best[\"Subtype\"]=='Basal'] = 'red'\n",
        "colors[df_dmt_best[\"Subtype\"]=='Others'] = 'blue'\n",
        "#print(colors)\n",
        "df_dmt_best.plot.scatter(x=\"cg26514793\",y=\"cg25223095\",c=colors)\n",
        "plt.show()"
      ]
    },
    {
      "cell_type": "code",
      "execution_count": null,
      "metadata": {
        "id": "VbLDqL9nRaxm"
      },
      "outputs": [],
      "source": [
        "X_embedded = TSNE(n_components=3, learning_rate='auto',init='random', perplexity=25).fit_transform(df_dmt_pam)"
      ]
    },
    {
      "cell_type": "code",
      "execution_count": null,
      "metadata": {
        "id": "Yn3-9Mb4Rx5m"
      },
      "outputs": [],
      "source": [
        "X_embedded.shape"
      ]
    },
    {
      "cell_type": "code",
      "execution_count": null,
      "metadata": {
        "id": "iIejk0_QSrCs"
      },
      "outputs": [],
      "source": [
        "from sklearn import manifold, datasets\n",
        "import mpl_toolkits.mplot3d"
      ]
    },
    {
      "cell_type": "code",
      "execution_count": null,
      "metadata": {
        "id": "0xMQxTajSLGK"
      },
      "outputs": [],
      "source": [
        "t_sne = manifold.TSNE(\n",
        "    n_components=2,\n",
        "    perplexity=30,\n",
        "    init=\"random\",\n",
        "    n_iter=250,\n",
        "    random_state=0,\n",
        ")\n",
        "S_t_sne = t_sne.fit_transform(df_dmt_pam)\n",
        "\n"
      ]
    },
    {
      "cell_type": "code",
      "execution_count": null,
      "metadata": {
        "id": "oFcpfD_SS0Jb"
      },
      "outputs": [],
      "source": [
        "n_samples = 1500\n",
        "S_points, S_color = datasets.make_s_curve(n_samples, random_state=0)"
      ]
    },
    {
      "cell_type": "code",
      "execution_count": null,
      "metadata": {
        "id": "2ej0srDuT2jT"
      },
      "outputs": [],
      "source": [
        "S_color"
      ]
    },
    {
      "cell_type": "code",
      "execution_count": null,
      "metadata": {
        "id": "RNhOaUAaUoNq"
      },
      "outputs": [],
      "source": [
        "my_dict = {'Basal': 0 , 'Her2': 1 , 'LumA': 2 , 'LumB': 3}\n",
        "y = [my_dict[zi] for zi in y_test]"
      ]
    },
    {
      "cell_type": "code",
      "execution_count": null,
      "metadata": {
        "id": "lgfj-6UXVbaj"
      },
      "outputs": [],
      "source": [
        "from matplotlib import ticker\n"
      ]
    },
    {
      "cell_type": "code",
      "execution_count": null,
      "metadata": {
        "id": "hYAGfOZZWg3r"
      },
      "outputs": [],
      "source": [
        "from sklearn.decomposition import PCA\n",
        "\n",
        "pca = PCA(n_components=2)\n",
        "X_pca = pca.fit_transform(X_test)"
      ]
    },
    {
      "cell_type": "code",
      "execution_count": null,
      "metadata": {
        "id": "20gwzlQCWzJv"
      },
      "outputs": [],
      "source": [
        "import plotly.express as px\n"
      ]
    },
    {
      "cell_type": "code",
      "execution_count": null,
      "metadata": {
        "id": "o9pmmTYHW4GA"
      },
      "outputs": [],
      "source": [
        "df_label1 = df_dmt_pam1['Subtype']"
      ]
    },
    {
      "cell_type": "code",
      "execution_count": null,
      "metadata": {
        "id": "9Mc15awxtxIf"
      },
      "outputs": [],
      "source": [
        "df_label2 = df_dmt_pam_test1['Subtype']"
      ]
    },
    {
      "cell_type": "code",
      "execution_count": null,
      "metadata": {
        "id": "myO7EHExXRzo"
      },
      "outputs": [],
      "source": [
        "import plotly.express as px\n"
      ]
    },
    {
      "cell_type": "code",
      "execution_count": null,
      "metadata": {
        "id": "Axi0Xn5fe9k5"
      },
      "outputs": [],
      "source": []
    },
    {
      "cell_type": "code",
      "execution_count": null,
      "metadata": {
        "id": "zJsBO44VXZHi"
      },
      "outputs": [],
      "source": [
        "x1 = df_dmt_pam.to_numpy()"
      ]
    },
    {
      "cell_type": "code",
      "execution_count": null,
      "metadata": {
        "id": "iaoMy24beHEq"
      },
      "outputs": [],
      "source": [
        "y = df_label2.to_numpy()"
      ]
    },
    {
      "cell_type": "code",
      "execution_count": null,
      "metadata": {
        "id": "yzhPniPsenQN"
      },
      "outputs": [],
      "source": [
        "y"
      ]
    },
    {
      "cell_type": "code",
      "execution_count": null,
      "metadata": {
        "id": "IDL8MFlFXvs5"
      },
      "outputs": [],
      "source": [
        "df_label1 = np.array(df_label1)"
      ]
    },
    {
      "cell_type": "code",
      "execution_count": null,
      "metadata": {
        "id": "liaMpbdLe-ew"
      },
      "outputs": [],
      "source": [
        "fig = px.scatter_3d(x=x1[:, 0], y=x1[:, 1], z=x1[:, 2], color=y, opacity=0.8)\n",
        "fig.show()"
      ]
    },
    {
      "cell_type": "code",
      "execution_count": null,
      "metadata": {
        "id": "_rR5SXsmWsdh"
      },
      "outputs": [],
      "source": [
        "fig = px.scatter(x=X_pca[:, 0], y=X_pca[:, 1], color=y)\n",
        "fig.update_layout(\n",
        "    title=\"PCA visualization of Methylation data\",\n",
        "    xaxis_title=\"First Principal Component\",\n",
        "    yaxis_title=\"Second Principal Component\",\n",
        ")\n",
        "fig.show()"
      ]
    },
    {
      "cell_type": "code",
      "execution_count": null,
      "metadata": {
        "id": "PfOFsBbduIfN"
      },
      "outputs": [],
      "source": [
        "fig = px.scatter(x=X_pca[:, 0], y=X_pca[:, 1], color=y)\n",
        "fig.update_layout(\n",
        "    title=\"PCA visualization of Custom Classification dataset\",\n",
        "    xaxis_title=\"First Principal Component\",\n",
        "    yaxis_title=\"Second Principal Component\",\n",
        ")\n",
        "fig.show()"
      ]
    },
    {
      "cell_type": "code",
      "execution_count": null,
      "metadata": {
        "id": "YjYh5nq0fv4m"
      },
      "outputs": [],
      "source": [
        "from sklearn.manifold import TSNE\n",
        "\n",
        "tsne = TSNE(n_components=3, perplexity=50, random_state=42)\n",
        "X_tsne = tsne.fit_transform(X_test)\n",
        "tsne.kl_divergence_"
      ]
    },
    {
      "cell_type": "code",
      "execution_count": null,
      "metadata": {
        "id": "gg-D34z9mJaa"
      },
      "outputs": [],
      "source": [
        "\n",
        "perplexity = np.arange(5, 65, 5)\n",
        "divergence = []\n",
        "\n",
        "for i in perplexity:\n",
        "    model = TSNE(n_components=2, init=\"pca\", perplexity=i)\n",
        "    reduced = model.fit_transform(X_test)\n",
        "    divergence.append(model.kl_divergence_)\n",
        "fig = px.line(x=perplexity, y=divergence, markers=True)\n",
        "fig.update_layout(xaxis_title=\"Perplexity Values\", yaxis_title=\"Divergence\")\n",
        "fig.update_traces(line_color=\"red\", line_width=1)\n",
        "fig.show()"
      ]
    },
    {
      "cell_type": "code",
      "execution_count": null,
      "metadata": {
        "id": "x46rkAvBf-nB"
      },
      "outputs": [],
      "source": [
        "fig = px.scatter(x=X_tsne[:, 0], y=X_tsne[:, 1], color=y)\n",
        "fig.update_layout(\n",
        "    title=\"t-SNE visualization of Methylation data\",\n",
        "    xaxis_title=\"First t-SNE\",\n",
        "    yaxis_title=\"Second t-SNE\",\n",
        ")\n",
        "fig.show()"
      ]
    },
    {
      "cell_type": "code",
      "execution_count": null,
      "metadata": {
        "id": "GRXwC_f_uS9B"
      },
      "outputs": [],
      "source": [
        "fig = px.scatter(x=X_tsne[:, 0], y=X_tsne[:, 1], color=y)\n",
        "fig.update_layout(\n",
        "    title=\"t-SNE visualization of Methylation data\",\n",
        "    xaxis_title=\"First t-SNE\",\n",
        "    yaxis_title=\"Second t-SNE\",\n",
        ")\n",
        "fig.show()"
      ]
    },
    {
      "cell_type": "code",
      "execution_count": null,
      "metadata": {
        "id": "9zXdWxHzw4SX"
      },
      "outputs": [],
      "source": [
        "df_dmt_pam_test.tail()"
      ]
    },
    {
      "cell_type": "code",
      "execution_count": null,
      "metadata": {
        "id": "HjP986bVzTct"
      },
      "outputs": [],
      "source": [
        "predictions = clf.predict(X_test)"
      ]
    },
    {
      "cell_type": "code",
      "execution_count": null,
      "metadata": {
        "id": "upZB-XNguhv2"
      },
      "outputs": [],
      "source": [
        "predictions [:10], X_test[:10], y_test[:10]"
      ]
    },
    {
      "cell_type": "code",
      "execution_count": null,
      "metadata": {
        "id": "RB90nWiavHSQ"
      },
      "outputs": [],
      "source": [
        "U_meth, S_meth, Vt_meth = np.linalg.svd(df_dmt_best, full_matrices=False)\n"
      ]
    },
    {
      "cell_type": "code",
      "execution_count": null,
      "metadata": {
        "id": "REpNAyU_vP8Z"
      },
      "outputs": [],
      "source": [
        "num_sv_meth = np.arange(1, S_meth.size+1)\n",
        "\n",
        "cum_var_explained_meth = [np.sum(np.square(S_meth[0:n])) / np.sum(np.square(S_meth)) for n in num_sv_meth]"
      ]
    },
    {
      "cell_type": "code",
      "execution_count": null,
      "metadata": {
        "id": "B38srv_BvRkM"
      },
      "outputs": [],
      "source": [
        "fig = plt.figure(figsize=(5.0,4.5))\n",
        "ax = fig.add_subplot(111)\n",
        "\n",
        "plt.plot(num_sv_meth,\n",
        "         cum_var_explained_meth,\n",
        "         color='#2171b5',\n",
        "         label='variance explained',\n",
        "         alpha=0.65,\n",
        "         zorder=1000)\n",
        "\n",
        "plt.scatter(num_sv_meth,\n",
        "            sklearn.preprocessing.normalize(S_meth.reshape((1,-1))),\n",
        "            color='#fc4e2a',\n",
        "            label='singular values (normalized)',\n",
        "            alpha=0.65,\n",
        "            zorder=1000)\n",
        "\n",
        "plt.legend(loc='center right', scatterpoints=1, fontsize=8)\n",
        "\n",
        "ax.set_xticks(num_sv_meth)\n",
        "ax.set_xlim(0.8, 4.1)\n",
        "ax.set_ylim(0.0, 1.1)\n",
        "ax.set_xlabel(r'Number of singular values used')\n",
        "ax.set_ylabel('Variance in data explained')\n",
        "ax.set_title('Meth dataset: cumulative variance explained & singular values',\n",
        "             fontsize=14,\n",
        "             y=1.03)\n",
        "\n",
        "ax.set_facecolor('0.98')\n",
        "\n",
        "plt.grid(alpha=0.8, zorder=1)\n",
        "plt.tight_layout()"
      ]
    },
    {
      "cell_type": "code",
      "execution_count": null,
      "metadata": {
        "id": "-XPODNgYva6J"
      },
      "outputs": [],
      "source": [
        "from IPython.core.interactiveshell import InteractiveShell\n",
        "InteractiveShell.ast_node_interactivity = \"all\""
      ]
    },
    {
      "cell_type": "code",
      "execution_count": null,
      "metadata": {
        "id": "Zbi7Ngm0wKQh"
      },
      "outputs": [],
      "source": [
        "df_dmt_pam1['Subtype'].value_counts()"
      ]
    },
    {
      "cell_type": "code",
      "execution_count": null,
      "metadata": {
        "id": "yDI43a3XvjM5"
      },
      "outputs": [],
      "source": [
        "idx_lum = np.where(df_dmt_pam['Subtype']=='Lum')[0]\n",
        "#idx_lumb = np.where(df_dmt_pam1['Subtype']=='LumB')[0]\n",
        "idx_her2 = np.where(df_dmt_pam['Subtype']=='Her2')[0]\n",
        "idx_basal = np.where(df_dmt_pam['Subtype']=='Basal')[0]\n"
      ]
    },
    {
      "cell_type": "code",
      "execution_count": null,
      "metadata": {
        "id": "jUqo2obC_Nhg"
      },
      "outputs": [],
      "source": [
        "\"\"\"\n",
        "luma_x = U_meth[idx_luma, 0]\n",
        "luma_y = U_meth[idx_luma, 1]\n",
        "\"\"\"\n",
        "lum_x = U_meth[idx_lum, 0]\n",
        "lum_y = U_meth[idx_lum, 1]\n",
        "\n",
        "basal_x = U_meth[idx_basal, 0]\n",
        "basal_y = U_meth[idx_basal, 1]\n",
        "\n",
        "her2_x = U_meth[idx_her2, 0]\n",
        "her2_y = U_meth[idx_her2, 1]\n"
      ]
    },
    {
      "cell_type": "code",
      "execution_count": null,
      "metadata": {
        "id": "a1pxGL29w5WZ"
      },
      "outputs": [],
      "source": [
        "others_x = U_meth[idx_others, 0]\n",
        "others_y = U_meth[idx_others, 1]\n",
        "\n",
        "basal_x = U_meth[idx_basal, 0]\n",
        "basal_y = U_meth[idx_basal, 1]\n"
      ]
    },
    {
      "cell_type": "code",
      "execution_count": null,
      "metadata": {
        "id": "hx0uj7JB_YT4"
      },
      "outputs": [],
      "source": [
        "fig = plt.figure(figsize=(7.0,5.5))\n",
        "ax = fig.add_subplot(111)\n",
        "\"\"\"\n",
        "plt.scatter(luma_x,\n",
        "            luma_x,\n",
        "            marker='o',\n",
        "            color='lime',\n",
        "            label='LumA',\n",
        "            zorder=1000)\n",
        "\"\"\"\n",
        "plt.scatter(lum_x,\n",
        "            lum_x,\n",
        "            marker='o',\n",
        "            color='blue',\n",
        "            label='Lumb',\n",
        "            zorder=1000)\n",
        "\n",
        "plt.scatter(basal_x,\n",
        "            basal_x,\n",
        "            marker='o',\n",
        "            color='red',\n",
        "            label='Basal',\n",
        "            zorder=1000)\n",
        "\n",
        "plt.scatter(her2_x,\n",
        "            her2_x,\n",
        "            marker='o',\n",
        "            color='cyan',\n",
        "            label='Her2',\n",
        "            zorder=1000)\n",
        "\"\"\"\n",
        "plt.scatter(lumbhn_x,\n",
        "            lumbhn_x,\n",
        "            marker='o',\n",
        "            color='orange',\n",
        "            label='Lumbpn',\n",
        "            zorder=1000)\n",
        "\n",
        "plt.scatter(lumbhp_x,\n",
        "            lumbhp_x,\n",
        "            marker='o',\n",
        "            color='black',\n",
        "            label='Lumbpp',\n",
        "            zorder=1000)\n",
        "\n",
        "plt.scatter(Normal_x,\n",
        "            Normal_x,\n",
        "            marker='D',\n",
        "            color='black',\n",
        "            label='Normal',\n",
        "            zorder=1000)\n",
        "\n",
        "plt.scatter(Other_x,\n",
        "            Other_x,\n",
        "            marker='D',\n",
        "            color='orange',\n",
        "            label='BasalH',\n",
        "            zorder=1000)\n",
        "\"\"\"\n",
        "plt.legend(loc='upper left', scatterpoints=1, fontsize=8)\n",
        "\n",
        "ax.set_xlabel(r'singular value $\\sigma_{1}$')\n",
        "ax.set_ylabel(r'singular value $\\sigma_{2}$')\n",
        "ax.set_title('2D plot of Meth dataset',\n",
        "             fontsize=14,\n",
        "             y=1.03)\n",
        "ax.set_facecolor('0.98')\n",
        "\n",
        "plt.grid(alpha=0.6, zorder=1)\n",
        "plt.tight_layout()\n"
      ]
    },
    {
      "cell_type": "code",
      "execution_count": null,
      "metadata": {
        "id": "i4dDJJJK_i09"
      },
      "outputs": [],
      "source": [
        "fig = plt.figure(figsize=(7.0,5.5))\n",
        "ax = fig.add_subplot(111)\n",
        "\"\"\"\n",
        "plt.scatter(luma_x,\n",
        "            luma_y,\n",
        "            marker='o',\n",
        "            color='lime',\n",
        "            label='LumA',\n",
        "            zorder=1000)\n",
        "\"\"\"\n",
        "plt.scatter(lum_x,\n",
        "            lum_y,\n",
        "            marker='o',\n",
        "            color='lime',\n",
        "            label='LumB',\n",
        "            zorder=1000)\n",
        "\n",
        "plt.scatter(basal_x,\n",
        "            basal_y,\n",
        "            marker='o',\n",
        "            color='red',\n",
        "            label='Basal',\n",
        "            zorder=1000)\n",
        "\n",
        "plt.scatter(her2_x,\n",
        "            her2_y,\n",
        "            marker='o',\n",
        "            color='violet',\n",
        "            label='Her2',\n",
        "            zorder=1000)\n",
        "\"\"\"\n",
        "plt.scatter(lumbhn_x,\n",
        "            lumbhn_y,\n",
        "            marker='o',\n",
        "            color='orange',\n",
        "            label='Lumapn',\n",
        "            zorder=1000)\n",
        "\n",
        "plt.scatter(lumbhp_x,\n",
        "            lumbhp_y,\n",
        "            marker='o',\n",
        "            color='black',\n",
        "            label='Lumapp',\n",
        "            zorder=1000)\n",
        "\n",
        "plt.scatter(Normal_x,\n",
        "            Normal_y,\n",
        "            marker='D',\n",
        "            color='black',\n",
        "            label='Normal',\n",
        "            zorder=1000)\n",
        "\n",
        "plt.scatter(Other_x,\n",
        "            Other_y,\n",
        "            marker='D',\n",
        "            color='orange',\n",
        "            label='LumBH',\n",
        "            zorder=1000)\n",
        "\n",
        "\n",
        "plt.scatter(Other_x,\n",
        "            Other_y,\n",
        "            marker='D',\n",
        "            color='black',\n",
        "            label='Other',\n",
        "            zorder=1000)\n",
        "\n",
        "\"\"\"\n",
        "plt.legend(loc='upper left', scatterpoints=1, fontsize=8)\n",
        "\n",
        "ax.set_xlabel(r'singular value $\\sigma_{1}$')\n",
        "ax.set_ylabel(r'singular value $\\sigma_{2}$')\n",
        "ax.set_title('2D plot of Meth dataset',\n",
        "             fontsize=14,\n",
        "             y=1.03)\n",
        "ax.set_facecolor('0.98')\n",
        "\n",
        "plt.grid(alpha=0.6, zorder=1)\n",
        "plt.tight_layout()\n"
      ]
    },
    {
      "cell_type": "code",
      "execution_count": null,
      "metadata": {
        "id": "aXkj2K4gxGpz"
      },
      "outputs": [],
      "source": [
        "fig = plt.figure(figsize=(7.0,5.5))\n",
        "ax = fig.add_subplot(111)\n",
        "\n",
        "plt.scatter(others_x,\n",
        "            others_x,\n",
        "            marker='o',\n",
        "            color='lime',\n",
        "            label='Others',\n",
        "            zorder=1000)\n",
        "\n",
        "\n",
        "plt.scatter(basal_x,\n",
        "            basal_x,\n",
        "            marker='o',\n",
        "            color='red',\n",
        "            label='Basal',\n",
        "            zorder=1000)\n",
        "plt.legend(loc='upper left', scatterpoints=1, fontsize=8)\n",
        "\n",
        "ax.set_xlabel(r'singular value $\\sigma_{1}$')\n",
        "ax.set_ylabel(r'singular value $\\sigma_{2}$')\n",
        "ax.set_title('2D plot of Meth dataset',\n",
        "             fontsize=14,\n",
        "             y=1.03)\n",
        "ax.set_facecolor('0.98')\n",
        "\n",
        "plt.grid(alpha=0.6, zorder=1)\n",
        "plt.tight_layout()\n"
      ]
    },
    {
      "cell_type": "code",
      "execution_count": null,
      "metadata": {
        "id": "xodcFKEMxdXh"
      },
      "outputs": [],
      "source": [
        "fig = plt.figure(figsize=(7.0,5.5))\n",
        "ax = fig.add_subplot(111)\n",
        "\n",
        "plt.scatter(others_x,\n",
        "            others_y,\n",
        "            marker='o',\n",
        "            color='lime',\n",
        "            label='LumA',\n",
        "            zorder=1000)\n",
        "\n",
        "\n",
        "plt.scatter(basal_x,\n",
        "            basal_y,\n",
        "            marker='o',\n",
        "            color='red',\n",
        "            label='Basal',\n",
        "            zorder=1000)\n",
        "plt.legend(loc='upper left', scatterpoints=1, fontsize=8)\n",
        "\n",
        "ax.set_xlabel(r'singular value $\\sigma_{1}$')\n",
        "ax.set_ylabel(r'singular value $\\sigma_{2}$')\n",
        "ax.set_title('2D plot of Meth dataset',\n",
        "             fontsize=14,\n",
        "             y=1.03)\n",
        "ax.set_facecolor('0.98')\n",
        "\n",
        "plt.grid(alpha=0.6, zorder=1)\n",
        "plt.tight_layout()\n"
      ]
    },
    {
      "cell_type": "code",
      "execution_count": null,
      "metadata": {
        "id": "QQ2rmOOrP1IL"
      },
      "outputs": [],
      "source": [
        "from sklearn.naive_bayes import GaussianNB\n",
        "\n",
        "# Build a Gaussian Classifier\n",
        "model = GaussianNB()"
      ]
    },
    {
      "cell_type": "code",
      "execution_count": null,
      "metadata": {
        "id": "xoNGAG1JXjsF"
      },
      "outputs": [],
      "source": [
        "model.fit(X_train,y_train)"
      ]
    },
    {
      "cell_type": "code",
      "execution_count": null,
      "metadata": {
        "id": "f94J1UHqSVFn"
      },
      "outputs": [],
      "source": [
        "model.score(X_test,y_test)"
      ]
    },
    {
      "cell_type": "code",
      "execution_count": null,
      "metadata": {
        "id": "M12VLPYMSeqH"
      },
      "outputs": [],
      "source": [
        "matthews_corrcoef(y_test,predictions)"
      ]
    },
    {
      "cell_type": "code",
      "execution_count": null,
      "metadata": {
        "id": "bN2OElF_YI_j"
      },
      "outputs": [],
      "source": [
        "predictions=model.predict(X_test)"
      ]
    },
    {
      "cell_type": "code",
      "execution_count": null,
      "metadata": {
        "id": "RvTLSmHXYOmj"
      },
      "outputs": [],
      "source": [
        "matrix = confusion_matrix(y_test, predictions, labels=clf.classes_)\n",
        "disp = ConfusionMatrixDisplay(confusion_matrix=matrix, display_labels=clf.classes_)\n",
        "disp.plot()\n",
        "plt.show()"
      ]
    },
    {
      "cell_type": "code",
      "execution_count": null,
      "metadata": {
        "id": "4szvPLUjZkfk"
      },
      "outputs": [],
      "source": [
        "from sklearn.tree import DecisionTreeClassifier\n"
      ]
    },
    {
      "cell_type": "code",
      "execution_count": null,
      "metadata": {
        "id": "_S_harzeZnjj"
      },
      "outputs": [],
      "source": [
        "clf = DecisionTreeClassifier(random_state=0).fit(df_train, df_label)"
      ]
    },
    {
      "cell_type": "code",
      "execution_count": null,
      "metadata": {
        "id": "FUUaxKujZ1wj"
      },
      "outputs": [],
      "source": [
        "clf.score(df_train,df_label)"
      ]
    },
    {
      "cell_type": "code",
      "execution_count": null,
      "metadata": {
        "id": "TKSfnl4vZ6tC"
      },
      "outputs": [],
      "source": [
        "predictions = clf.predict(df_train)"
      ]
    },
    {
      "cell_type": "code",
      "execution_count": null,
      "metadata": {
        "id": "BWPy1Wk1zcNm"
      },
      "outputs": [],
      "source": [
        "font = {'family' : 'normal',\n",
        "    'weight' : 'bold',\n",
        "    'size'   : 22}\n",
        "#plt.rc('font', **font)\n",
        "plt.xlabel('Students', fontsize = 18)\n",
        "plt.ylabel('Marks', fontsize = 18)\n"
      ]
    },
    {
      "cell_type": "code",
      "execution_count": null,
      "metadata": {
        "id": "onmYBsisaFI6"
      },
      "outputs": [],
      "source": [
        "matrix = confusion_matrix(df_label, predictions, labels=clf.classes_)\n",
        "disp = ConfusionMatrixDisplay(confusion_matrix=matrix, display_labels=target_names)\n",
        "\n",
        "disp.plot(cmap = 'RdPu', colorbar =False)\n",
        "plt.rcParams['font.size'] = '22'\n",
        "plt.xticks(fontsize=20)\n",
        "plt.yticks(fontsize=20)\n",
        "plt.xlabel('True label', fontsize = 18)\n",
        "plt.ylabel('Predicted label', fontsize = 18)\n",
        "\n",
        "plt.show()\n"
      ]
    },
    {
      "cell_type": "code",
      "execution_count": null,
      "metadata": {
        "id": "G3QvK-gP-Oca"
      },
      "outputs": [],
      "source": [
        "matrix = confusion_matrix(df_label, predictions, labels=clf.classes_)\n",
        "disp = ConfusionMatrixDisplay(confusion_matrix=matrix, display_labels=target_names)\n",
        "\n",
        "disp.plot(cmap = 'RdPu', colorbar =False)\n",
        "plt.rcParams['font.size'] = '22'\n",
        "plt.xticks(fontsize=18)\n",
        "plt.yticks(fontsize=18)\n",
        "plt.xlabel('True label', fontsize = 18)\n",
        "plt.ylabel('Predicted label', fontsize = 18)\n",
        "\n",
        "plt.show()\n"
      ]
    },
    {
      "cell_type": "code",
      "execution_count": null,
      "metadata": {
        "id": "QhhioP8R2pFL"
      },
      "outputs": [],
      "source": [
        "from sklearn.metrics import precision_recall_curve\n",
        "from sklearn.metrics import PrecisionRecallDisplay"
      ]
    },
    {
      "cell_type": "code",
      "execution_count": null,
      "metadata": {
        "id": "YzGlcD4H1_Ll"
      },
      "outputs": [],
      "source": [
        "y_score = clf.decision_function(df_train)\n",
        "\n",
        "#y_score = clf.fit(df_train, df_label).predict_proba(df_train)\n",
        "y = np.argmax(y_score, axis=1)\n",
        "prec, recall, _ = precision_recall_curve(df_label, y,\n",
        "                                         pos_label=target_names)\n",
        "pr_display = PrecisionRecallDisplay(precision=prec, recall=recall).plot()\n"
      ]
    },
    {
      "cell_type": "code",
      "execution_count": null,
      "metadata": {
        "id": "pNiOXFzak580"
      },
      "outputs": [],
      "source": [
        "import seaborn as sn"
      ]
    },
    {
      "cell_type": "code",
      "execution_count": null,
      "metadata": {
        "id": "xvgnhnJZk_64"
      },
      "outputs": [],
      "source": [
        "plt.figure(figsize = (3,3))\n",
        "sn.heatmap(matrix, annot=True,cmap=\"OrRd\")"
      ]
    },
    {
      "cell_type": "code",
      "execution_count": null,
      "metadata": {
        "id": "bUMcJEG9U3u0"
      },
      "outputs": [],
      "source": [
        "matthews_corrcoef(y_test,predictions)"
      ]
    },
    {
      "cell_type": "code",
      "execution_count": null,
      "metadata": {
        "id": "B-VDOPpXaKKM"
      },
      "outputs": [],
      "source": [
        "predictions = clf.predict(df_dmt_pam_test)"
      ]
    },
    {
      "cell_type": "code",
      "execution_count": null,
      "metadata": {
        "id": "EdppENY5aOz5"
      },
      "outputs": [],
      "source": [
        "matrix = confusion_matrix(df_label_test, predictions, labels=clf.classes_)\n",
        "disp = ConfusionMatrixDisplay(confusion_matrix=matrix, display_labels=clf.classes_)\n",
        "disp.plot()\n",
        "plt.show()"
      ]
    },
    {
      "cell_type": "code",
      "execution_count": null,
      "metadata": {
        "id": "_LUdMAQWcmaC"
      },
      "outputs": [],
      "source": [
        "#data, labels = load_digits(return_X_y=True)\n",
        "(n_samples, n_features), n_digits = df_dmt_best.shape, np.unique(df_label).size\n",
        "\n",
        "print(f\"# classes: {n_digits}; # samples: {n_samples}; # features {n_features}\")"
      ]
    },
    {
      "cell_type": "code",
      "execution_count": null,
      "metadata": {
        "id": "x_XBMURud50c"
      },
      "outputs": [],
      "source": [
        "n_digits = 2"
      ]
    },
    {
      "cell_type": "code",
      "execution_count": null,
      "metadata": {
        "id": "t4oEnx4Obyk5"
      },
      "outputs": [],
      "source": [
        "from time import time\n",
        "from sklearn import metrics\n",
        "from sklearn.pipeline import make_pipeline\n",
        "from sklearn.preprocessing import StandardScaler\n",
        "\n",
        "\n",
        "def bench_k_means(kmeans, name, data, labels):\n",
        "    \"\"\"Benchmark to evaluate the KMeans initialization methods.\n",
        "\n",
        "    Parameters\n",
        "    ----------\n",
        "    kmeans : KMeans instance\n",
        "        A :class:`~sklearn.cluster.KMeans` instance with the initialization\n",
        "        already set.\n",
        "    name : str\n",
        "        Name given to the strategy. It will be used to show the results in a\n",
        "        table.\n",
        "    data : ndarray of shape (n_samples, n_features)\n",
        "        The data to cluster.\n",
        "    labels : ndarray of shape (n_samples,)\n",
        "        The labels used to compute the clustering metrics which requires some\n",
        "        supervision.\n",
        "    \"\"\"\n",
        "    t0 = time()\n",
        "    estimator = make_pipeline(StandardScaler(), kmeans).fit(data)\n",
        "    fit_time = time() - t0\n",
        "    results = [name, fit_time, estimator[-1].inertia_]\n",
        "\n",
        "    # Define the metrics which require only the true labels and estimator\n",
        "    # labels\n",
        "    clustering_metrics = [\n",
        "        metrics.homogeneity_score,\n",
        "        metrics.completeness_score,\n",
        "        metrics.v_measure_score,\n",
        "        metrics.adjusted_rand_score,\n",
        "        metrics.adjusted_mutual_info_score,\n",
        "    ]\n",
        "    results += [m(labels, estimator[-1].labels_) for m in clustering_metrics]\n",
        "\n",
        "    # The silhouette score requires the full dataset\n",
        "    results += [\n",
        "        metrics.silhouette_score(\n",
        "            data,\n",
        "            estimator[-1].labels_,\n",
        "            metric=\"euclidean\",\n",
        "            sample_size=300,\n",
        "        )\n",
        "    ]\n",
        "\n",
        "    # Show the results\n",
        "    formatter_result = (\n",
        "        \"{:9s}\\t{:.3f}s\\t{:.0f}\\t{:.3f}\\t{:.3f}\\t{:.3f}\\t{:.3f}\\t{:.3f}\\t{:.3f}\"\n",
        "    )\n",
        "    print(formatter_result.format(*results))"
      ]
    },
    {
      "cell_type": "code",
      "execution_count": null,
      "metadata": {
        "id": "Cf3Oh6azcUtp"
      },
      "outputs": [],
      "source": [
        "from sklearn.cluster import KMeans\n",
        "from sklearn.decomposition import PCA\n",
        "\n",
        "print(82 * \"_\")\n",
        "print(\"init\\t\\ttime\\tinertia\\thomo\\tcompl\\tv-meas\\tARI\\tAMI\\tsilhouette\")\n",
        "\n",
        "kmeans = KMeans(init=\"k-means++\", n_clusters=n_digits, n_init=4, random_state=0)\n",
        "bench_k_means(kmeans=kmeans, name=\"k-means++\", data=df_dmt_pam, labels=df_label)\n",
        "\n",
        "kmeans = KMeans(init=\"random\", n_clusters=n_digits, n_init=4, random_state=0)\n",
        "bench_k_means(kmeans=kmeans, name=\"random\", data=df_dmt_pam, labels=df_label)\n",
        "\n",
        "pca = PCA(n_components=n_digits).fit(df_dmt_pam)\n",
        "kmeans = KMeans(init=pca.components_, n_clusters=n_digits, n_init=1)\n",
        "bench_k_means(kmeans=kmeans, name=\"PCA-based\", data=df_dmt_pam, labels=df_label)\n",
        "\n",
        "print(82 * \"_\")"
      ]
    },
    {
      "cell_type": "code",
      "execution_count": null,
      "metadata": {
        "id": "ha0U8DWAdbZt"
      },
      "outputs": [],
      "source": [
        "import matplotlib.pyplot as plt\n",
        "\n",
        "reduced_data = PCA(n_components=2).fit_transform(df_dmt_pam)\n",
        "kmeans = KMeans(init=\"k-means++\", n_clusters=n_digits, n_init=4)\n",
        "kmeans.fit(reduced_data)\n",
        "\n",
        "# Step size of the mesh. Decrease to increase the quality of the VQ.\n",
        "h = 0.02  # point in the mesh [x_min, x_max]x[y_min, y_max].\n",
        "\n",
        "# Plot the decision boundary. For that, we will assign a color to each\n",
        "x_min, x_max = reduced_data[:, 0].min() - 1, reduced_data[:, 0].max() + 1\n",
        "y_min, y_max = reduced_data[:, 1].min() - 1, reduced_data[:, 1].max() + 1\n",
        "xx, yy = np.meshgrid(np.arange(x_min, x_max, h), np.arange(y_min, y_max, h))\n",
        "\n",
        "# Obtain labels for each point in mesh. Use last trained model.\n",
        "Z = kmeans.predict(np.c_[xx.ravel(), yy.ravel()])\n",
        "\n",
        "# Put the result into a color plot\n",
        "Z = Z.reshape(xx.shape)\n",
        "plt.figure(1)\n",
        "plt.clf()\n",
        "plt.imshow(\n",
        "    Z,\n",
        "    interpolation=\"nearest\",\n",
        "    extent=(xx.min(), xx.max(), yy.min(), yy.max()),\n",
        "    cmap=plt.cm.Paired,\n",
        "    aspect=\"auto\",\n",
        "    origin=\"lower\",\n",
        ")\n",
        "\n",
        "plt.plot(reduced_data[:, 0], reduced_data[:, 1], \"k.\", markersize=2)\n",
        "# Plot the centroids as a white X\n",
        "centroids = kmeans.cluster_centers_\n",
        "plt.scatter(\n",
        "    centroids[:, 0],\n",
        "    centroids[:, 1],\n",
        "    marker=\"x\",\n",
        "    s=169,\n",
        "    linewidths=3,\n",
        "    color=\"w\",\n",
        "    zorder=10,\n",
        ")\n",
        "plt.title(\n",
        "    \"K-means clustering on the BRCA dataset (PCA-reduced data)\\n\"\n",
        "    \"Centroids are marked with white cross\"\n",
        ")\n",
        "plt.xlim(x_min, x_max)\n",
        "plt.ylim(y_min, y_max)\n",
        "plt.xticks(())\n",
        "plt.yticks(())\n",
        "plt.show()"
      ]
    },
    {
      "cell_type": "code",
      "execution_count": null,
      "metadata": {
        "id": "CsFlg1KCil5B"
      },
      "outputs": [],
      "source": [
        "df_dmt_pam.shape, y.shape"
      ]
    },
    {
      "cell_type": "code",
      "execution_count": null,
      "metadata": {
        "id": "ff8kXnxVi9NK"
      },
      "outputs": [],
      "source": [
        "y = pd.DataFrame(data=df_label)"
      ]
    },
    {
      "cell_type": "code",
      "execution_count": null,
      "metadata": {
        "id": "pPNWhiIwevyk"
      },
      "outputs": [],
      "source": [
        "import time\n",
        "import matplotlib.pyplot as plt\n",
        "import numpy as np\n",
        "\n",
        "from sklearn.cluster import AgglomerativeClustering\n",
        "from sklearn.neighbors import kneighbors_graph\n",
        "\n",
        "# Generate sample data\n",
        "n_samples = 741\n",
        "np.random.seed(0)\n",
        "#t = 1.5 * np.pi * (1 + 3 * np.random.rand(1, n_samples))\n",
        "x = df_dmt_pam\n",
        "y = df_label\n",
        "\n",
        "\n",
        "# Create a graph capturing local connectivity. Larger number of neighbors\n",
        "# will give more homogeneous clusters to the cost of computation\n",
        "# time. A very large number of neighbors gives more evenly distributed\n",
        "# cluster sizes, but may not impose the local manifold structure of\n",
        "# the data\n",
        "knn_graph = kneighbors_graph(df_dmt_pam, 30, include_self=False)\n",
        "\n",
        "for connectivity in (None, knn_graph):\n",
        "    for n_clusters in (30, 3):\n",
        "        plt.figure(figsize=(10, 4))\n",
        "        for index, linkage in enumerate((\"average\", \"complete\", \"ward\", \"single\")):\n",
        "            plt.subplot(1, 4, index + 1)\n",
        "            model = AgglomerativeClustering(\n",
        "                linkage=linkage, connectivity=connectivity, n_clusters=n_clusters\n",
        "            )\n",
        "            t0 = time.time()\n",
        "            model.fit(df_dmt_pam)\n",
        "            elapsed_time = time.time() - t0\n",
        "            plt.scatter(df_dmt_pam[:, 0], df_dmt_pam[:, 1], c=model.labels_, cmap=plt.cm.nipy_spectral)\n",
        "            plt.title(\n",
        "                \"linkage=%s\\n(time %.2fs)\" % (linkage, elapsed_time),\n",
        "                fontdict=dict(verticalalignment=\"top\"),\n",
        "            )\n",
        "            plt.axis(\"equal\")\n",
        "            plt.axis(\"off\")\n",
        "\n",
        "            plt.subplots_adjust(bottom=0, top=0.83, wspace=0, left=0, right=1)\n",
        "            plt.suptitle(\n",
        "                \"n_cluster=%i, connectivity=%r\"\n",
        "                % (n_clusters, connectivity is not None),\n",
        "                size=17,\n",
        "            )\n",
        "\n",
        "\n",
        "plt.show()"
      ]
    },
    {
      "cell_type": "code",
      "execution_count": null,
      "metadata": {
        "id": "oPuYLl4w_lN9"
      },
      "outputs": [],
      "source": [
        "!pip install scikeras"
      ]
    },
    {
      "cell_type": "code",
      "execution_count": null,
      "metadata": {
        "id": "zDJs64ou9eg9"
      },
      "outputs": [],
      "source": [
        "##Neural Network model\n",
        "\n",
        "from keras.models import Sequential\n",
        "from keras.layers import Dense\n",
        "from scikeras.wrappers import KerasClassifier\n",
        "from keras.utils import to_categorical\n",
        "from sklearn.model_selection import cross_val_score\n",
        "from sklearn.model_selection import KFold\n",
        "from sklearn.preprocessing import LabelEncoder\n",
        "from sklearn.pipeline import Pipeline\n",
        "# load dataset\n",
        "#dataframe = pandas.read_csv(\"iris.data\", header=None)\n",
        "#dataset = dataframe.values\n",
        "#X = dataset[:,0:4].astype(float)\n",
        "#Y = dataset[:,4]\n",
        "# encode class values as integers\n",
        "encoder = LabelEncoder()\n",
        "encoder.fit(df_label)\n",
        "encoded_Y = encoder.transform(df_label)\n",
        "# convert integers to dummy variables (i.e. one hot encoded)\n",
        "dummy_y = to_categorical(encoded_Y)\n",
        "\n",
        "# define baseline model\n",
        "def baseline_model(optimizer='rmsprop', init='glorot_uniform'):\n",
        " # create model\n",
        " model = Sequential()\n",
        " model.add(Dense(128, input_dim=35, kernel_initializer=init, activation='relu'))\n",
        " model.add(Dense(64, kernel_initializer=init, activation='relu'))\n",
        " model.add(Dense(32, kernel_initializer=init, activation='relu'))\n",
        " model.add(Dense(16, kernel_initializer=init, activation='relu'))\n",
        " model.add(Dense(8, kernel_initializer=init, activation='relu'))\n",
        " model.add(Dense(3, kernel_initializer=init, activation='softmax'))\n",
        " # Compile model\n",
        " model.compile(loss='categorical_crossentropy', optimizer='adam', metrics=['accuracy'])\n",
        " return model\n",
        "\n"
      ]
    },
    {
      "cell_type": "code",
      "execution_count": null,
      "metadata": {
        "id": "QiXfusCQGy84"
      },
      "outputs": [],
      "source": [
        "estimator = KerasClassifier(model=baseline_model, epochs=20, batch_size=5, verbose=0)\n",
        "kfold = KFold(n_splits=5, shuffle=True)\n",
        "results = cross_val_score(estimator, df_dmt_pam, dummy_y, cv=kfold)\n",
        "\n",
        "print(\"Baseline: %.2f%% (%.2f%%)\" % (results.mean()*100, results.std()*100))"
      ]
    },
    {
      "cell_type": "code",
      "execution_count": null,
      "metadata": {
        "id": "cvjjz4-FJICY"
      },
      "outputs": [],
      "source": [
        "label_binarizer = LabelBinarizer().fit(df_label)\n",
        "y_onehot_test = label_binarizer.transform(y_test_fold)"
      ]
    },
    {
      "cell_type": "code",
      "execution_count": null,
      "metadata": {
        "id": "nO1Bh2hgjcam"
      },
      "outputs": [],
      "source": [
        "target_names = ['HER2', 'LUM', 'TNBC']"
      ]
    },
    {
      "cell_type": "code",
      "execution_count": null,
      "metadata": {
        "id": "A_77F_wF_DaV"
      },
      "outputs": [],
      "source": [
        "labels = [0, 1, 2]"
      ]
    },
    {
      "cell_type": "code",
      "execution_count": null,
      "metadata": {
        "id": "_2Oz9aUyAtmz"
      },
      "outputs": [],
      "source": [
        "y_onehot_test.shape"
      ]
    },
    {
      "cell_type": "code",
      "execution_count": null,
      "metadata": {
        "id": "9tgK1VsXLNHh"
      },
      "outputs": [],
      "source": [
        "from tensorflow.keras.models import Sequential\n",
        "from tensorflow.keras.layers import Dense, Flatten, Conv2D, MaxPooling2D\n",
        "from tensorflow.keras.losses import sparse_categorical_crossentropy\n",
        "from tensorflow.keras.optimizers import Adam\n",
        "from sklearn.model_selection import KFold\n",
        "import numpy as np\n",
        "from sklearn.preprocessing import LabelEncoder\n",
        "\n",
        "\n",
        "# Merge inputs and targets\n",
        "#inputs = np.concatenate((input_train, input_test), axis=0)\n",
        "#targets = np.concatenate((target_train, target_test), axis=0)\n",
        "num_folds = 5\n",
        "# Define the K-fold Cross Validator\n",
        "kfold = KFold(n_splits=num_folds, shuffle=True)\n",
        "input_shape = df_dmt_pam.shape\n",
        "# K-fold Cross Validation model evaluation\n",
        "fold_no = 1\n",
        "batch_size = 5\n",
        "no_epochs = 20\n",
        "verbosity = 0\n",
        "acc_per_fold = []\n",
        "loss_per_fold = []\n",
        "for i, (train, test) in enumerate(skf.split(df_dmt_pam, df_label)):\n",
        "  x_train_fold, x_test_fold = df_dmt_pam.iloc[train], df_dmt_pam.iloc[test]\n",
        "  y_train_fold, y_test_fold = df_label.iloc[train], df_label.iloc[test]\n",
        "  encoder = LabelEncoder()\n",
        "  encoder.fit(df_label)\n",
        "  encoded_Y = encoder.transform(y_train_fold)\n",
        "  # convert integers to dummy variables (i.e. one hot encoded)\n",
        "\n",
        "  dummy_y = to_categorical(encoded_Y)\n",
        "  encoded_Yt = encoder.transform(y_test_fold)\n",
        "  # convert integers to dummy variables (i.e. one hot encoded)\n",
        "  dummy_yt = to_categorical(encoded_Yt)\n",
        "  #label_binarizer = LabelBinarizer().fit(df_label)\n",
        "  #y_onehot_train = label_binarizer.transform(y_train_fold)\n",
        "  #y_onehot_test = label_binarizer.transform(y_test_fold)\n",
        "\n",
        "\n",
        "  # Define the model architecture\n",
        "  #model = Sequential()\n",
        "  #model.add(Dense(128, input_dim=35, kernel_initializer=init, activation='relu'))\n",
        "  \"\"\"\n",
        "  model.add(Dense(32, input_dim=35, activation='relu'))\n",
        "  #model.add(MaxPooling2D(pool_size=(2, 2)))\n",
        "  model.add(Dense(64,  activation='relu'))\n",
        "  #model.add(MaxPooling2D(pool_size=(2, 2)))\n",
        "  #model.add(Flatten())\n",
        "  #model.add(Dense(256, activation='relu'))\n",
        "  model.add(Dense(128, activation='relu'))\n",
        "  model.add(Dense(3, activation='softmax'))\n",
        "  \"\"\"\n",
        "  model = Sequential()\n",
        "  model.add(Dense(128, input_dim=35,  activation='relu'))\n",
        "  model.add(Dense(64, activation='relu'))\n",
        "  model.add(Dense(32, activation='relu'))\n",
        "  model.add(Dense(16, activation='relu'))\n",
        "  model.add(Dense(8, activation='relu'))\n",
        "  model.add(Dense(3, activation='softmax'))\n",
        "  # Compile model\n",
        "  # Compile the model\n",
        "  model.compile(loss='categorical_crossentropy',\n",
        "                optimizer='adam',\n",
        "                metrics=['accuracy'])\n",
        "\n",
        "\n",
        "  # Generate a print\n",
        "  print('------------------------------------------------------------------------')\n",
        "  print(f'Training for fold {fold_no} ...')\n",
        "\n",
        "  # Fit data to model\n",
        "  history = model.fit(x_train_fold, dummy_y,\n",
        "              batch_size=batch_size,\n",
        "              epochs=no_epochs,\n",
        "              verbose=verbosity)\n",
        "\n",
        "  # Generate generalization metrics\n",
        "  scores = model.evaluate(x_test_fold, dummy_yt, verbose=0)\n",
        "  print(f'Score for fold {fold_no}: {model.metrics_names[0]} of {scores[0]}; {model.metrics_names[1]} of {scores[1]*100}%')\n",
        "  acc_per_fold.append(scores[1] * 100)\n",
        "  loss_per_fold.append(scores[0])\n",
        "  #lst_accu_stratified.append(model.score(x_test_fold, dummy_yt))\n",
        "  predictions = model.predict(x_test_fold)\n",
        "  pred = np.argmax(predictions, axis = 1)\n",
        "  #pred_y = to_categorical(pred)\n",
        "  y_label=np.argmax(dummy_yt,axis=1)\n",
        "  #predict_label=np.argmax(prediction,axis=1)\n",
        "  print(confusion_matrix(y_label, pred))\n",
        "\n",
        "\n",
        "  print(classification_report(y_label, pred, target_names=target_names))\n",
        "  matrix = confusion_matrix(y_label, pred, labels=labels)\n",
        "  #print(clf.classes_)\n",
        "  disp = ConfusionMatrixDisplay(confusion_matrix=matrix, display_labels=target_names)\n",
        "\n",
        "  disp.plot(cmap = 'RdPu', colorbar =False)\n",
        "  plt.rcParams['font.size'] = '22'\n",
        "  plt.xticks(fontsize=18)\n",
        "  plt.yticks(fontsize=18)\n",
        "  plt.xlabel('True label', fontsize = 18)\n",
        "  plt.ylabel('Predicted label', fontsize = 18)\n",
        "\n",
        "  plt.show()\n",
        "\n",
        "  print(matthews_corrcoef(y_label, pred))\n",
        "\n",
        "  label_binarizer = LabelBinarizer().fit(df_label)\n",
        "  y_onehot_test = label_binarizer.transform(y_test_fold)\n",
        "  n_samples, n_classes = y_onehot_test.shape\n",
        "  y_score = model.predict(x_test_fold)\n",
        "  fig, ax = plt.subplots(figsize=(8, 8))\n",
        "\n",
        "  \"\"\"\n",
        "  #for binary\n",
        "  RocCurveDisplay.from_predictions(\n",
        "          y_onehot_test,\n",
        "          y_score[:, 1],\n",
        "          name='SVM-RBF',\n",
        "          color='red',\n",
        "          ax=ax\n",
        "\n",
        "      )\n",
        "\n",
        "  \"\"\"\n",
        "\n",
        "  colors = cycle([\"blue\", \"green\", \"red\", \"acqua\"])\n",
        "  for class_id, color in zip(range(n_classes), colors):\n",
        "      RocCurveDisplay.from_predictions(\n",
        "          y_onehot_test[:, class_id],\n",
        "          y_score[:, class_id],\n",
        "          name=f\"{target_names[class_id]}\",\n",
        "          color=color,\n",
        "          ax=ax\n",
        "\n",
        "      )\n",
        "\n",
        "  plt.show()\n",
        "\n",
        "  # store the fpr, tpr, and roc_auc for all averaging strategies\n",
        "  fpr, tpr, roc_auc = dict(), dict(), dict()\n",
        "  # Compute micro-average ROC curve and ROC area\n",
        "  fpr[\"micro\"], tpr[\"micro\"], _ = roc_curve(y_onehot_test.ravel(), y_score.ravel())\n",
        "  roc_auc[\"micro\"] = auc(fpr[\"micro\"], tpr[\"micro\"])\n",
        "\n",
        "  print(f\"Micro-averaged One-vs-Rest ROC AUC score:\\n{roc_auc['micro']:.2f}\")\n",
        "\n",
        "\n",
        "  \"\"\"\n",
        "\n",
        "  plt.plot([0, 1], [0, 1], \"k--\", label=\"Chance curve (AUC = 0.5)\")\n",
        "  ax.tick_params(axis='x', labelsize=15)\n",
        "  ax.tick_params(axis='y', labelsize=15)\n",
        "  plt.axis(\"square\")\n",
        "  plt.xlabel(\"False Positive Rate\", fontsize = 15)\n",
        "  plt.ylabel(\"True Positive Rate\", fontsize = 15)\n",
        "  #plt.title(\"Receiver Operating Characteristic\\n (One-vs-Rest multiclass)\")\n",
        "  plt.legend(fontsize = \"10\",loc='lower right')\n",
        "  plt.show()\n",
        "\n",
        "  perm_importance = permutation_importance(clf, x_test_fold, y_test_fold)\n",
        "  col = df_dmt_pam.columns\n",
        "  feature_names_corr = np.array(col)\n",
        "  sorted_idx_corr = perm_importance.importances_mean.argsort()\n",
        "  for i in range(0,len(sorted_idx_corr)):\n",
        "    features_corr_sorted = feature_names_corr[sorted_idx_corr]\n",
        "  for i in range(0,len(sorted_idx_corr)):\n",
        "    imp_corr_sorted = perm_importance.importances_mean[sorted_idx_corr]\n",
        "  cpg_corr_sorted = pd.DataFrame({'id': features_corr_sorted, 'imp': imp_corr_sorted}, columns=['id', 'imp'])\n",
        "  #cpg_imp = cpg_corr_sorted.loc[cpg_corr_sorted['imp']>0.0]\n",
        "  #cpg_imp_sites = cpg_imp.id\n",
        "  #print(len(cpg_imp_sites))\n",
        "  #print(cpg_imp_sites)\n",
        "  print(cpg_corr_sorted.tail(18))\n",
        "  \"\"\"\n",
        "  # Increase fold number\n",
        "  fold_no = fold_no + 1\n"
      ]
    },
    {
      "cell_type": "code",
      "execution_count": null,
      "metadata": {
        "id": "U5SoiUG6CkN8"
      },
      "outputs": [],
      "source": [
        "print('List of possible accuracy:', acc_per_fold)\n",
        "print('\\nMaximum Accuracy That can be obtained from this model is:',\n",
        "      max(acc_per_fold), '%')\n",
        "print('\\nMinimum Accuracy:',\n",
        "      min(acc_per_fold), '%')\n",
        "print('\\nOverall Accuracy:',\n",
        "      mean(acc_per_fold), '%')\n",
        "print('\\nStandard Deviation is:', stdev(acc_per_fold))"
      ]
    },
    {
      "cell_type": "code",
      "execution_count": null,
      "metadata": {
        "id": "ZdDQWZ9sD0mb"
      },
      "outputs": [],
      "source": [
        "print('List of possible accuracy:', acc_per_fold)\n",
        "print('\\nMaximum Accuracy That can be obtained from this model is:',\n",
        "      max(acc_per_fold), '%')\n",
        "print('\\nMinimum Accuracy:',\n",
        "      min(acc_per_fold), '%')\n",
        "print('\\nOverall Accuracy:',\n",
        "      mean(acc_per_fold), '%')\n",
        "print('\\nStandard Deviation is:', stdev(acc_per_fold))"
      ]
    },
    {
      "cell_type": "code",
      "execution_count": null,
      "metadata": {
        "id": "Sajb8gkOE5OZ"
      },
      "outputs": [],
      "source": [
        "from sklearn.model_selection import GridSearchCV\n",
        "seed = 7\n",
        "np.random.seed(seed)\n",
        "# load pima indians dataset\n",
        "# create model\n",
        "model = KerasClassifier(model=baseline_model, verbose=0)\n",
        "print(model.get_params().keys())\n",
        "# grid search epochs, batch size and optimizer\n",
        "optimizers = ['rmsprop', 'adam']\n",
        "init = ['glorot_uniform', 'normal', 'uniform']\n",
        "epochs = [5, 10, 15]\n",
        "batches = [5, 10, 20]\n",
        "param_grid = dict(optimizer=optimizers, epochs=epochs, batch_size=batches, model__init=init)\n",
        "grid = GridSearchCV(estimator=model, param_grid=param_grid)\n",
        "grid_result = grid.fit(df_dmt_pam, dummy_y)\n",
        "# summarize results\n",
        "print(\"Best: %f using %s\" % (grid_result.best_score_, grid_result.best_params_))\n",
        "means = grid_result.cv_results_['mean_test_score']\n",
        "stds = grid_result.cv_results_['std_test_score']\n",
        "params = grid_result.cv_results_['params']\n",
        "for mean, stdev, param in zip(means, stds, params):\n",
        "    print(\"%f (%f) with: %r\" % (mean, stdev, param))"
      ]
    }
  ],
  "metadata": {
    "colab": {
      "provenance": [],
      "mount_file_id": "13mFnb0kU1UW1FEo_Eay2LW7jsNCx2oWC",
      "authorship_tag": "ABX9TyOtmkclnC3qk0Lerc5Tx/hF"
    },
    "kernelspec": {
      "display_name": "Python 3",
      "name": "python3"
    },
    "language_info": {
      "name": "python"
    }
  },
  "nbformat": 4,
  "nbformat_minor": 0
}